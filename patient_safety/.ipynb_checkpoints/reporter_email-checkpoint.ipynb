{
 "cells": [
  {
   "cell_type": "code",
   "execution_count": null,
   "metadata": {},
   "outputs": [],
   "source": [
    "import pandas as pd\n",
    "import numpy as np\n",
    "import matplotlib.pyplot as plt\n",
    "import matplotlib.image as mpimg\n",
    "import pyodbc"
   ]
  },
  {
   "cell_type": "code",
   "execution_count": null,
   "metadata": {},
   "outputs": [],
   "source": [
    "sql_conn = pyodbc.connect('DRIVER={SQL Server};'\n",
    "                            'SERVER=L_AAGname;'\n",
    "                            'DATABASE=database_name;'\n",
    "                            'Trusted_Connection=yes') \n",
    "query = \"set transaction isolation level read uncommitted select inc_rep_email from DatixCRM.dbo.incidents_main where inc_type='PAT' and inc_category='MEDIC' and inc_organisation='QA'\"\n",
    "df = pd.read_sql(query, sql_conn)\n",
    "df = df.dropna()\n",
    "df['inc_rep_email'] = df['inc_rep_email'].str.split(\"@\",n=1,expand=True)[0]\n",
    "df.head()"
   ]
  },
  {
   "cell_type": "code",
   "execution_count": null,
   "metadata": {},
   "outputs": [],
   "source": [
    "email_counts = df['inc_rep_email'].value_counts(ascending=True)\n",
    "df_counted = df\n",
    "for email,count in email_counts.iteritems():\n",
    "    if count <= 15:\n",
    "        df_counted.loc[df_counted['inc_rep_email'] == email, 'inc_rep_email'] = 'Other'\n",
    "email_counts_min = df_counted['inc_rep_email'].value_counts(ascending=True)\n",
    "email_counts_min = email_counts_min.drop('Other')\n",
    "print(email_counts_min)"
   ]
  },
  {
   "cell_type": "code",
   "execution_count": null,
   "metadata": {
    "scrolled": false
   },
   "outputs": [],
   "source": [
    "plt.figure(figsize=(15,15))\n",
    "plt.barh(email_counts_min.index,email_counts_min.values)"
   ]
  },
  {
   "cell_type": "code",
   "execution_count": null,
   "metadata": {
    "scrolled": false
   },
   "outputs": [],
   "source": [
    "people_per_counts = email_counts.value_counts()[email_counts.unique()]\n",
    "print(people_per_counts)\n",
    "bins = [0,1,2,3,4,5,6,7,8,9,10,11,12,13,14,15,16,17,18,20,30,40,50,80,400]\n",
    "people_per_counts_binned = people_per_counts.groupby(pd.cut(people_per_counts.index,bins)).sum()\n",
    "print(people_per_counts_binned)\n",
    "plt.figure(figsize=(14,14))\n",
    "string_bins = people_per_counts_binned.index.astype(str)\n",
    "print(string_bins)\n",
    "plt.barh(string_bins,people_per_counts_binned.values)"
   ]
  },
  {
   "cell_type": "code",
   "execution_count": null,
   "metadata": {},
   "outputs": [],
   "source": [
    "cumulative_num_people = []\n",
    "cumulative_percentages = []\n",
    "num_people = people_per_counts.values.sum()\n",
    "percentage = 100\n",
    "for i in range(len(people_per_counts)):\n",
    "    cumulative_num_people.append(str(num_people))\n",
    "    num_people -= people_per_counts.values[i]\n",
    "    cumulative_percentages.append(percentage)\n",
    "    percentage -= 100*people_per_counts.index[i]*people_per_counts.values[i]/email_counts.values.sum()\n",
    "red_percentages = [100-percentage for percentage in cumulative_percentages]"
   ]
  },
  {
   "cell_type": "code",
   "execution_count": null,
   "metadata": {},
   "outputs": [],
   "source": [
    "plt.figure(figsize=(14,14))\n",
    "plt.barh(cumulative_num_people,cumulative_percentages,color='g')\n",
    "plt.barh(cumulative_num_people,red_percentages,left=cumulative_percentages,color='r')\n",
    "plt.ylabel('number of people reporting the events')\n",
    "for i, percentage in enumerate(cumulative_percentages):\n",
    "    plt.text(percentage,i-0.2,\"{0:.1f}% \".format(percentage))\n",
    "    if int(cumulative_num_people[i])!=1 and i>2: \n",
    "        plt.text(69,i-0.2,\"the same \"+cumulative_num_people[i]+\" people reported \"+\"{0:.1f}% \".format(percentage)+\" of events\")\n",
    "plt.text(69,len(cumulative_percentages)-1-0.2,\"the same 1 person reported \"+\"{0:.1f}% \".format(percentage)+\" of events\");"
   ]
  },
  {
   "cell_type": "code",
   "execution_count": null,
   "metadata": {},
   "outputs": [],
   "source": [
    "plt.rcParams.update({'font.size': 9})\n",
    "plt.figure(figsize=(20,14))\n",
    "plt.bar(cumulative_num_people,cumulative_percentages,color='g')\n",
    "plt.bar(cumulative_num_people,red_percentages,bottom=cumulative_percentages,color='r')\n",
    "plt.xlabel('number of people reporting the events');\n",
    "plt.xlim(-0.5,47.5)\n",
    "plt.gca().invert_xaxis()\n",
    "for i, percentage in enumerate(cumulative_percentages):\n",
    "    plt.text(i-0.1,percentage+0.1,\"{0:.0f}% \".format(percentage),ha='center')"
   ]
  },
  {
   "cell_type": "code",
   "execution_count": null,
   "metadata": {},
   "outputs": [],
   "source": []
  }
 ],
 "metadata": {
  "kernelspec": {
   "display_name": "Python 3",
   "language": "python",
   "name": "python3"
  },
  "language_info": {
   "codemirror_mode": {
    "name": "ipython",
    "version": 3
   },
   "file_extension": ".py",
   "mimetype": "text/x-python",
   "name": "python",
   "nbconvert_exporter": "python",
   "pygments_lexer": "ipython3",
   "version": "3.7.3"
  }
 },
 "nbformat": 4,
 "nbformat_minor": 2
}
