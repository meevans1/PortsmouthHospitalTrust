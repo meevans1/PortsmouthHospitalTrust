{
 "cells": [
  {
   "cell_type": "code",
   "execution_count": null,
   "metadata": {},
   "outputs": [],
   "source": [
    "import pandas as pd\n",
    "import pyodbc\n",
    "import re"
   ]
  },
  {
   "cell_type": "code",
   "execution_count": null,
   "metadata": {},
   "outputs": [],
   "source": [
    "sql_conn = pyodbc.connect('DRIVER={SQL Server};'\n",
    "                            'SERVER=L_AAGname;'\n",
    "                            'DATABASE=database_name;'\n",
    "                            'Trusted_Connection=yes') \n",
    "query = \"set transaction isolation level read uncommitted select inc_reportedby,inc_notes from DatixCRM.dbo.incidents_main where inc_type='PAT' and inc_category='MEDIC' and inc_organisation='QA'\"\n",
    "df = pd.read_sql(query, sql_conn)\n",
    "df.head()"
   ]
  },
  {
   "cell_type": "code",
   "execution_count": null,
   "metadata": {},
   "outputs": [],
   "source": [
    "roles = list(df['inc_reportedby'].value_counts().index)"
   ]
  },
  {
   "cell_type": "code",
   "execution_count": null,
   "metadata": {},
   "outputs": [],
   "source": [
    "if '' in roles: roles.remove('')\n",
    "print(roles)"
   ]
  },
  {
   "cell_type": "code",
   "execution_count": null,
   "metadata": {},
   "outputs": [],
   "source": [
    "split_slash = []\n",
    "for role in roles:\n",
    "    for r in role.split('/'):\n",
    "        split_slash.append(r.strip())\n",
    "split_bracket = []\n",
    "for role in split_dash:\n",
    "    for r in role.split(' ('):\n",
    "        split_bracket.append(r.strip(' )'))\n",
    "role_search = []\n",
    "for role in split_bracket:\n",
    "    for r in role.split(' - '):\n",
    "        role_search.append(r.strip(')'))\n",
    "role_search = [role.replace('  ',' ') for role in role_search]\n",
    "role_search = [role.lower().replace(' staff','') for role in role_search]\n",
    "role_search = [role.strip(')') for role in role_search]\n",
    "if 'unknown grade' in role_search: role_search.remove('unknown grade')\n",
    "if 'all types' in role_search: role_search.remove('all types')\n",
    "role_search = list(filter(lambda r: r!='other', role_search))\n",
    "\n",
    "seen = set()\n",
    "seen_add = seen.add\n",
    "role_search = [x for x in role_search if not (x in seen or seen_add(x))]\n",
    "\n",
    "role_search = [role.replace(' & ',' and ') for role in role_search]\n",
    "role_search.append('dr')\n",
    "role_search.append('1st year')\n",
    "role_search.append('2nd year')\n",
    "for i,role in enumerate(role_search):\n",
    "    if re.sub(r\"(\\s)and(\\s)\",r\"\\1&\\2\",role)!=role: role_search.append(re.sub(r\"(\\s)and(\\s)\",r\"\\1&\\2\",role))\n",
    "    #if re.sub(r\"(\\s)year\",r\"\\1yr\",role)!=role: role_search.append(re.sub(r\"(\\s)year\",r\"\\1yr\",role))\n",
    "#for role in role_search:\n",
    "#    if re.sub(r\"administration\",r\"admin\",role)!=role: role_search.append(re.sub(r\"administration\",r\"admin\",role))\n",
    "role_search.remove('pharmacy')\n",
    "print(role_search)"
   ]
  },
  {
   "cell_type": "code",
   "execution_count": null,
   "metadata": {},
   "outputs": [],
   "source": [
    "role_num_dict = {}\n",
    "for role in role_search:\n",
    "    df_role = df[df['inc_notes'].str.lower().str.contains(' '+role+' ')]\n",
    "    role_num_dict[role] = len(df_role)\n",
    "    print(df_role['inc_notes'].values)"
   ]
  },
  {
   "cell_type": "code",
   "execution_count": null,
   "metadata": {},
   "outputs": [],
   "source": [
    "print(role_num_dict)"
   ]
  },
  {
   "cell_type": "code",
   "execution_count": null,
   "metadata": {},
   "outputs": [],
   "source": []
  }
 ],
 "metadata": {
  "kernelspec": {
   "display_name": "Python 3",
   "language": "python",
   "name": "python3"
  },
  "language_info": {
   "codemirror_mode": {
    "name": "ipython",
    "version": 3
   },
   "file_extension": ".py",
   "mimetype": "text/x-python",
   "name": "python",
   "nbconvert_exporter": "python",
   "pygments_lexer": "ipython3",
   "version": "3.7.3"
  }
 },
 "nbformat": 4,
 "nbformat_minor": 2
}
