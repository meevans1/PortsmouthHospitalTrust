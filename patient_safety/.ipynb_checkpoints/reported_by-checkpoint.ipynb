{
 "cells": [
  {
   "cell_type": "code",
   "execution_count": null,
   "metadata": {},
   "outputs": [],
   "source": [
    "import pandas as pd\n",
    "import numpy as np\n",
    "import matplotlib.pyplot as plt\n",
    "import matplotlib.image as mpimg\n",
    "import pyodbc"
   ]
  },
  {
   "cell_type": "code",
   "execution_count": null,
   "metadata": {},
   "outputs": [],
   "source": [
    "sql_conn = pyodbc.connect('DRIVER={SQL Server};'\n",
    "                            'SERVER=L_AAGname;'\n",
    "                            'DATABASE=database_name;'\n",
    "                            'Trusted_Connection=yes') \n",
    "query = \"set transaction isolation level read uncommitted select inc_reportedby from DatixCRM.dbo.incidents_main where inc_type='PAT' and inc_category='MEDIC' and inc_organisation='QA'\"\n",
    "df = pd.read_sql(query, sql_conn)\n",
    "df = df.dropna()\n",
    "df"
   ]
  },
  {
   "cell_type": "code",
   "execution_count": null,
   "metadata": {},
   "outputs": [],
   "source": [
    "reportedby_counts = df['inc_reportedby'].value_counts()\n",
    "print(reportedby_counts)\n",
    "reportedby_counts = reportedby_counts.drop('',axis=0)\n",
    "thresh = 8\n",
    "reportedby_counts = reportedby_counts.append(pd.Series(reportedby_counts[reportedby_counts.values < thresh].sum(),index=['Other']))\n",
    "reportedby_counts = reportedby_counts[reportedby_counts.values >= thresh]\n",
    "reportedby_counts_max = reportedby_counts.max()\n",
    "plt.figure(figsize=(17,13))\n",
    "cm = plt.get_cmap('RdYlGn')\n",
    "cm_subsection = np.linspace(0, 1, len(reportedby_counts.values))\n",
    "x_range = range(0,len(reportedby_counts.values))\n",
    "colors = [cm(x) for x in cm_subsection]\n",
    "reportedby_list = list(reportedby_counts.index)\n",
    "reportedby_list_newlines = [i.replace(' ','\\n') for i in reportedby_list]\n",
    "num_newlines = [len(x) for x in reportedby_list_newlines]\n",
    "up_or_down = [60 if x%2==0 else -320 for x in range(len(reportedby_list))]\n",
    "vertical_alignment = ['bottom' if x%2==0 else 'top' for x in range(len(reportedby_list))]\n",
    "for i in x_range:\n",
    "    plt.scatter(i,reportedby_counts.values[i],color=colors[i],label=list(reportedby_counts.index)[i])\n",
    "    #plt.text(i,reportedby_counts.values[i]+10,reportedby_list_newlines[i],ha='center',va='bottom')\n",
    "    plt.annotate(reportedby_list_newlines[i], xy=(i,reportedby_counts.values[i]), xytext=(i,reportedby_counts.values[i]+up_or_down[i]), \n",
    "                 ha='center', va='bottom',\n",
    "                arrowprops=dict(facecolor='black', shrink=0.05))\n",
    "plt.plot(x_range,np.zeros(len(x_range)),'--')\n",
    "plt.legend(frameon=False)\n",
    "plt.xticks([])\n",
    "#plt.ylim(bottom=0)\n",
    "plt.ylabel(\"number reported by\")\n",
    "plt.title(\"number of medicine patient safety events reported by different staff roles\")"
   ]
  },
  {
   "cell_type": "code",
   "execution_count": null,
   "metadata": {},
   "outputs": [],
   "source": [
    "reportedby_counts = df['inc_reportedby'].value_counts()\n",
    "#reportedby_counts = reportedby_counts.drop('',axis=0)\n",
    "thresh = reportedby_counts[reportedby_counts.index == 'Other'].values[0] + 1\n",
    "reportedby_counts = reportedby_counts.append(pd.Series(reportedby_counts[reportedby_counts.values < thresh].sum(),index=['Other']))\n",
    "reportedby_counts = reportedby_counts[reportedby_counts.values >= thresh]\n",
    "plt.figure(figsize=(17,13))\n",
    "cm = plt.get_cmap('RdYlGn')\n",
    "cm_subsection = np.linspace(0, 1, len(reportedby_counts.values))\n",
    "x_range = range(0,len(reportedby_counts.values))\n",
    "colors = [cm(x) for x in cm_subsection]\n",
    "reportedby_list = list(reportedby_counts.index)\n",
    "for i in x_range:\n",
    "    plt.barh(reportedby_list[-(i+1)],reportedby_counts.values[-(i+1)],color=colors[-(i+1)])\n",
    "    plt.text(reportedby_counts.values[-(i+1)],i,reportedby_list[-(i+1)])\n",
    "plt.yticks([])\n",
    "plt.title(\"number of medicine patient safety events reported by different staff roles\");"
   ]
  },
  {
   "cell_type": "code",
   "execution_count": null,
   "metadata": {},
   "outputs": [],
   "source": []
  }
 ],
 "metadata": {
  "kernelspec": {
   "display_name": "Python 3",
   "language": "python",
   "name": "python3"
  },
  "language_info": {
   "codemirror_mode": {
    "name": "ipython",
    "version": 3
   },
   "file_extension": ".py",
   "mimetype": "text/x-python",
   "name": "python",
   "nbconvert_exporter": "python",
   "pygments_lexer": "ipython3",
   "version": "3.7.3"
  }
 },
 "nbformat": 4,
 "nbformat_minor": 2
}
