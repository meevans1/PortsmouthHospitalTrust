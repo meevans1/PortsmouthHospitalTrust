{
 "cells": [
  {
   "cell_type": "code",
   "execution_count": null,
   "metadata": {},
   "outputs": [],
   "source": [
    "import pandas as pd\n",
    "import numpy as np\n",
    "import matplotlib.pyplot as plt\n",
    "import matplotlib.image as mpimg\n",
    "import pyodbc\n",
    "import re"
   ]
  },
  {
   "cell_type": "code",
   "execution_count": null,
   "metadata": {},
   "outputs": [],
   "source": [
    "sql_conn = pyodbc.connect('DRIVER={SQL Server};'\n",
    "                            'SERVER=L_AAGname;'\n",
    "                            'DATABASE=database_name;'\n",
    "                            'Trusted_Connection=yes') \n",
    "query = \"set transaction isolation level read uncommitted select c.description,b.con_email,a.inc_dincident,a.inc_time from contacts_main b join incidents_main a on a.recordid=b.recordid join code_con_type c on b.con_type=c.code where a.inc_type='PAT' and a.inc_category='MEDIC' and a.inc_organisation='QA' and a.show_employee='Y'\"\n",
    "df = pd.read_sql(query, sql_conn)\n",
    "#df = df.dropna()\n",
    "df_columns = list(df.columns)\n",
    "df_columns[0] = 'employee_involved'\n",
    "df.columns = df_columns\n",
    "df['con_email'] = df['con_email'].str.split(\"@\",n=1,expand=True)[0]\n",
    "df"
   ]
  },
  {
   "cell_type": "code",
   "execution_count": null,
   "metadata": {},
   "outputs": [],
   "source": [
    "df = df[df['employee_involved'].str.contains('Employee')]\n",
    "df['employee_involved'] = df['employee_involved'].str.strip('Employee (')\n",
    "df['employee_involved'] = df['employee_involved'].str.strip('Registered ')\n",
    "df['employee_involved'] = df['employee_involved'].str.strip('\\)')\n",
    "df['employee_involved'] = df['employee_involved'].str.replace('administrative','administrative)')\n",
    "df['employee_involved'] = df['employee_involved'].str.replace(' / ','/')\n",
    "df['employee_involved'] = df['employee_involved'].str.replace(' and ',' & ')\n",
    "df['employee_involved'] = df['employee_involved'].str.replace(' staff','')\n",
    "print(df)"
   ]
  },
  {
   "cell_type": "code",
   "execution_count": null,
   "metadata": {},
   "outputs": [],
   "source": [
    "reportedby_counts = df['employee_involved'].value_counts()\n",
    "plt.figure(figsize=(17,13))\n",
    "cm = plt.get_cmap('RdYlGn')\n",
    "cm_subsection = np.linspace(0, 1, len(reportedby_counts.values))\n",
    "x_range = range(0,len(reportedby_counts.values))\n",
    "colors = [cm(x) for x in cm_subsection]\n",
    "reportedby_list = list(reportedby_counts.index)\n",
    "for i in x_range:\n",
    "    plt.barh(reportedby_list[-(i+1)],reportedby_counts.values[-(i+1)],color=colors[-(i+1)])\n",
    "    plt.text(reportedby_counts.values[-(i+1)],i,reportedby_list[-(i+1)])\n",
    "plt.yticks([])\n",
    "plt.xlim([0,max(reportedby_counts)+len(reportedby_list[0])])\n",
    "plt.title(\"employees involved in medicine patient safety events\");"
   ]
  },
  {
   "cell_type": "code",
   "execution_count": null,
   "metadata": {},
   "outputs": [],
   "source": [
    "email_counts = df['con_email'].value_counts(ascending=True)\n",
    "print(email_counts)"
   ]
  },
  {
   "cell_type": "code",
   "execution_count": null,
   "metadata": {},
   "outputs": [],
   "source": [
    "df['hour'] = df['inc_time'].str[:2]\n",
    "df = df.astype({'hour':'int'})\n",
    "df.head()"
   ]
  },
  {
   "cell_type": "code",
   "execution_count": null,
   "metadata": {},
   "outputs": [],
   "source": [
    "total_days = (max(df.inc_dincident)-min(df.inc_dincident)).days\n",
    "print(total_days)"
   ]
  },
  {
   "cell_type": "code",
   "execution_count": null,
   "metadata": {},
   "outputs": [],
   "source": [
    "bins = [i-0.5 for i in range(25)]\n",
    "data_x = [i for i in range(24)]\n",
    "data_y_tot,_ = np.histogram(df.hour, bins=bins)\n",
    "\n",
    "# Compute pie slices\n",
    "N = 24\n",
    "width = 2 * np.pi/N\n",
    "theta = np.linspace(0.0 + width, 2 * np.pi + width, N, endpoint=False)\n",
    "theta_deg = np.linspace(0.0 + 7.5, 360 + 7.5, N, endpoint=False)\n",
    "radii = data_y_tot/total_days\n",
    "radii_err = np.sqrt(data_y_tot)/total_days\n",
    "\n",
    "staff_counts = df['employee_involved'].value_counts()\n",
    "\n",
    "ax = plt.subplot(111, projection='polar')\n",
    "cumulative_bottom = 0\n",
    "for i,counts in staff_counts.items():\n",
    "    radii_staff_tot,_ = np.histogram(df[df['employee_involved']==i].hour, bins=bins)\n",
    "    radii_staff = radii_staff_tot/total_days\n",
    "    ax.bar(theta, radii_staff, bottom=cumulative_bottom, width=width, label=i);\n",
    "    cumulative_bottom += radii_staff\n",
    "\n",
    "ax.bar(theta, radii_err, bottom=cumulative_bottom-radii_err/2,width=width,alpha=0.5,color='none',hatch=\"////\",label='Total Uncertainty');\n",
    "ax.set_theta_offset(np.pi/2 + width/2)\n",
    "ax.set_theta_direction(-1)\n",
    "ax.set_yticklabels([])\n",
    "plt.xlabel('hour occured')\n",
    "plt.title('Hourly number of patient medicine safety events at QA',y=1.1)\n",
    "plt.legend(loc=(1.1,0),title='Staff involved:')\n",
    "lines, labels = plt.thetagrids( theta_deg, (data_x) )"
   ]
  },
  {
   "cell_type": "code",
   "execution_count": null,
   "metadata": {},
   "outputs": [],
   "source": [
    "df['weekday'] = df['inc_dincident'].dt.weekday\n",
    "total_weeks = (max(df.inc_dincident)-min(df.inc_dincident)).days/7\n",
    "print(total_weeks)"
   ]
  },
  {
   "cell_type": "code",
   "execution_count": null,
   "metadata": {},
   "outputs": [],
   "source": [
    "bins = [i-0.5 for i in range(8)]\n",
    "data_x = [i for i in range(7)]\n",
    "data_y_tot,_ = np.histogram(df.weekday.values, bins=bins)\n",
    "data_y = data_y_tot/total_weeks\n",
    "data_y_err = np.sqrt(data_y_tot)/total_weeks\n",
    "per_role_weekday = []\n",
    "per_role_label = []\n",
    "per_role_weight = []\n",
    "for i,counts in staff_counts.items():\n",
    "    per_role_weekday.append(df[df['employee_involved']==i].weekday.values)\n",
    "    per_role_label.append(i)\n",
    "    per_role_weight.append(np.ones(len(df[df['employee_involved']==i].weekday.values))/total_weeks)\n",
    "plt.hist(weekday_per_role,bins=bins,weights=weights_per_role,stacked=True,label=per_role_label)\n",
    "plt.bar(data_x,2*data_y_err,bottom=data_y-data_y_err,color='none',alpha=0.5,hatch=\"////\",label='Uncertainty',width=1)\n",
    "plt.ylim(bottom=0)\n",
    "ax = plt.gca()\n",
    "locs, labels = plt.xticks()\n",
    "plt.xticks(np.arange(7),labels=['Mon','Tue','Wed','Thu','Fri','Sat','Sun'])\n",
    "plt.xlabel('weekday occured');\n",
    "plt.ylabel('events per day')\n",
    "plt.legend(title='Staff involved',loc=(1,0.3))\n",
    "plt.title('Daily number of medicine patient safety events at QA');"
   ]
  },
  {
   "cell_type": "code",
   "execution_count": null,
   "metadata": {},
   "outputs": [],
   "source": []
  }
 ],
 "metadata": {
  "kernelspec": {
   "display_name": "Python 3",
   "language": "python",
   "name": "python3"
  },
  "language_info": {
   "codemirror_mode": {
    "name": "ipython",
    "version": 3
   },
   "file_extension": ".py",
   "mimetype": "text/x-python",
   "name": "python",
   "nbconvert_exporter": "python",
   "pygments_lexer": "ipython3",
   "version": "3.7.3"
  }
 },
 "nbformat": 4,
 "nbformat_minor": 2
}
