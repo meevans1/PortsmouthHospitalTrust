{
 "cells": [
  {
   "cell_type": "code",
   "execution_count": null,
   "metadata": {},
   "outputs": [],
   "source": [
    "import pandas as pd\n",
    "import numpy as np\n",
    "import matplotlib.pyplot as plt\n",
    "import matplotlib.image as mpimg\n",
    "import pyodbc\n",
    "from string import ascii_lowercase"
   ]
  },
  {
   "cell_type": "code",
   "execution_count": null,
   "metadata": {},
   "outputs": [],
   "source": [
    "sql_conn = pyodbc.connect('DRIVER={SQL Server};'\n",
    "                            'SERVER=L_AAGname;'\n",
    "                            'DATABASE=database_name;'\n",
    "                            'Trusted_Connection=yes') \n",
    "query = \"set transaction isolation level read uncommitted select b.description, c.description from DatixCRM.dbo.code_unit b join DatixCRM.dbo.incidents_main a on a.inc_unit = b.code join DatixCRM.dbo.code_locactual c on a.inc_locactual = c.code where a.inc_type='PAT' and a.inc_category='MEDIC' and a.inc_organisation='QA' and c.cod_parent2='QA'\"\n",
    "df = pd.read_sql(query, sql_conn)\n",
    "df.columns = ['division-care_group','location']\n",
    "df.head()"
   ]
  },
  {
   "cell_type": "code",
   "execution_count": null,
   "metadata": {},
   "outputs": [],
   "source": [
    "df['division-care_group'] = df['division-care_group'].str.replace(' and ',' & ')\n",
    "divider = df['division-care_group'].str.split(\" Division - \",n=1,expand=True)\n",
    "df['division'] = divider[0]\n",
    "df['care_group'] = divider[1]\n",
    "#df['division'] = df['division'].str.replace(' and ',' & ')\n",
    "df.loc[df.division == 'Corporate Functions', 'care_group'] = 'Corporate Functions'\n",
    "df = df[df['division-care_group'] != 'Corporate Functions']\n",
    "df = df[df.care_group != 'Pathology']\n",
    "#df.loc[df.division == 'Surgical & Outpatients', 'division'] = 'Surgical & Outpatients + Corporate Functions'\n",
    "#df.loc[df.division == 'Corporate Functions', 'division'] = 'Surgical & Outpatients + Corporate Functions'"
   ]
  },
  {
   "cell_type": "code",
   "execution_count": null,
   "metadata": {},
   "outputs": [],
   "source": [
    "division_counts = df['division'].value_counts()\n",
    "division_percentages = 100*division_counts/sum(division_counts.values)\n",
    "division_labels = [str(i) for i in division_counts.index]\n",
    "print(division_percentages)"
   ]
  },
  {
   "cell_type": "code",
   "execution_count": null,
   "metadata": {},
   "outputs": [],
   "source": [
    "df['division_sorted'] = pd.Categorical(df['division'], division_labels)\n",
    "df = df.sort_values(\"division_sorted\")\n",
    "df.head()"
   ]
  },
  {
   "cell_type": "code",
   "execution_count": null,
   "metadata": {},
   "outputs": [],
   "source": [
    "care_group_labels = []\n",
    "for i in division_counts.index:\n",
    "    df_division = df[df.division == i]\n",
    "    per_division_counts = df_division['care_group'].value_counts()\n",
    "    care_group_labels += [str(i) for i in per_division_counts.index]\n",
    "print(care_group_labels)"
   ]
  },
  {
   "cell_type": "code",
   "execution_count": null,
   "metadata": {},
   "outputs": [],
   "source": [
    "df['care_group_sorted'] = pd.Categorical(df['care_group'], care_group_labels)\n",
    "df = df.sort_values(['division_sorted','care_group_sorted'])\n",
    "df.head()"
   ]
  },
  {
   "cell_type": "code",
   "execution_count": null,
   "metadata": {},
   "outputs": [],
   "source": [
    "care_group_counts = df['care_group'].value_counts()[df['care_group'].unique()]\n",
    "care_group_percentages = 100*care_group_counts/sum(care_group_counts.values)\n",
    "print(care_group_percentages)"
   ]
  },
  {
   "cell_type": "code",
   "execution_count": null,
   "metadata": {},
   "outputs": [],
   "source": [
    "# Create colors\n",
    "a, b, c, d, e =[plt.cm.Reds, plt.cm.Oranges, plt.cm.Greens, plt.cm.Blues, plt.cm.Purples]\n",
    "a, c, d, e = [plt.cm.Reds, plt.cm.Greens, plt.cm.Blues, plt.cm.Purples]\n",
    "inner_ring_colours = [plt.cm.Reds, plt.cm.Greens, plt.cm.Blues, plt.cm.Purples]\n",
    "\n",
    "# First Ring (Inside)\n",
    "fig, ax = plt.subplots()\n",
    "ax.axis('equal')\n",
    "division_labels_newlines = [i.replace(' ','\\n') for i in division_labels]\n",
    "#mypie, _ = ax.pie(division_counts, radius=2, labels=division_labels_newlines, labeldistance=0.6, colors=[a(0.9), b(0.9), c(0.9), d(0.9), e(0.9)], textprops={'color':'w'})\n",
    "mypie, _ = ax.pie(division_counts, radius=1.9, labels=division_labels_newlines, labeldistance=0.5, colors=[inner_ring_colours[0](0.9), c(0.9), d(0.9), e(0.9)], textprops={'color':'w'}, startangle=90, counterclock=False)\n",
    "plt.setp( mypie, width=1.9, edgecolor='white')\n",
    " \n",
    "# Second Ring (oUTside)\n",
    "#care_group_colours = [a(0.8), a(0.7), a(0.6), a(0.5), b(0.8), c(0.8), c(0.7), c(0.6), d(0.8), d(0.7), d(0.6), e(0.8), e(0.7), e(0.6)]\n",
    "care_group_colours = []\n",
    "for i,index in enumerate(division_counts.index):\n",
    "    df_division = df[df.division == index]\n",
    "    per_division_counts = df_division['care_group'].value_counts()\n",
    "    slice_colour = 8\n",
    "    for j in range(len(per_division_counts)):\n",
    "        care_group_colours.append(inner_ring_colours[i](slice_colour/10))\n",
    "        slice_colour -= 1\n",
    "\n",
    "mypie2, texts = ax.pie(care_group_counts, radius=2.2, labels=care_group_labels, colors=care_group_colours, startangle=90, counterclock=False)\n",
    "plt.setp( mypie2, width=0.4, edgecolor='white')\n",
    "for text, color in zip(texts, care_group_colours):\n",
    "    text.set_color(color)\n",
    "plt.margins(0,0)\n",
    "\n",
    "plt.title('Medicine patient safety events at QA - division (inner ring) and care group (outer ring)', y=1.6);"
   ]
  },
  {
   "cell_type": "code",
   "execution_count": null,
   "metadata": {},
   "outputs": [],
   "source": [
    "df.loc[df.location == 'Department of Critical Care (E5) (DCCQ)', 'location'] = 'E5'\n",
    "df.loc[df.location == 'Acute Medical Unit (AMU) (MAU)', 'location'] = 'AMU'\n",
    "df.loc[df.location == 'Haematology & Oncology Day Unit (HODU)', 'location'] = 'HODU'\n",
    "df.loc[df.location == 'Childrens Assesment Unit (CAU)', 'location'] = 'CAU'\n",
    "df.loc[df.location == 'Hepatology Clinic (Nurse led) (on C5)', 'location'] = 'Hepatology'\n",
    "df.loc[df.location == 'Cardiac Day Unit (CDU)', 'location'] = 'CDU'\n",
    "df.loc[df.location == 'Surgical Assessment Unit (SAU)', 'location'] = 'SAU'\n",
    "df.location = df.location.str.replace(' QA','')\n",
    "df.location = df.location.str.replace(' Department','')\n",
    "df.location = df.location.str.replace(' Unit','')\n",
    "df.location = df.location.str.replace(' Centre','')\n",
    "df.location = df.location.str.replace(' Clinic','')\n",
    "df.location = df.location.str.replace(' and ',' & ')\n",
    "df.loc[df.location == 'Theatre Admissions Suite (TAS)', 'location'] = 'TAS'\n",
    "df.loc[df.location == 'Pre-Operative Assessment (POA)', 'location'] = 'POA'\n",
    "df.loc[df.location == 'Theatre - D1', 'location'] = 'D1'\n",
    "df.loc[df.location == 'Research & Development', 'location'] = 'R&D'\n",
    "df.loc[df.location == 'Reception (Atrium)', 'location'] = 'Reception'\n",
    "df.loc[df.location == 'G5 Endoscopy Suites', 'location'] = 'G5'\n",
    "df.loc[df.location == 'F3 Stroke Rehabilitation', 'location'] = 'F3'\n",
    "df.loc[df.location == 'F4 Acute Stroke Ward', 'location'] = 'F4'\n",
    "df.loc[df.location == 'F1  Neuro Rehab', 'location'] = 'F1'\n",
    "df.loc[df.location == 'Emergency (ED)', 'location'] = 'ED'\n",
    "df.loc[df.location == 'B6  Antenatal Ward', 'location'] = 'B6'\n",
    "df.loc[df.location == 'B7 Postnatal Ward', 'location'] = 'B7'\n",
    "df.loc[df.location == 'B9 NICU', 'location'] = 'B9'\n",
    "df.loc[df.location == 'A7 Starfish', 'location'] = 'A7'\n",
    "df.loc[df.location == 'A8 Shipwreck', 'location'] = 'A8'\n",
    "df.loc[df.location == 'B5  - Mary Rose Ward', 'location'] = 'B5'\n",
    "df.loc[df.location == 'B8 Labour Ward', 'location'] = 'B8'\n",
    "df.loc[df.location == 'Radiotherapy  Dept within CHOC', 'location'] = 'Radiotherapy'\n",
    "df.loc[df.location == 'Surgical High Care (SHCU)', 'location'] = 'SHCU'"
   ]
  },
  {
   "cell_type": "code",
   "execution_count": null,
   "metadata": {
    "scrolled": true
   },
   "outputs": [],
   "source": [
    "location_counts = df['location'].value_counts()[df['location'].unique()]\n",
    "print(location_counts.index)"
   ]
  },
  {
   "cell_type": "code",
   "execution_count": null,
   "metadata": {},
   "outputs": [],
   "source": [
    "location_labels = []\n",
    "for i in care_group_counts.index:\n",
    "    df_care_group = df[df.care_group == i]\n",
    "    per_care_group_counts = df_care_group['location'].value_counts()\n",
    "    location_labels += [i + ' - ' + str(j) for j in per_care_group_counts.index]\n",
    "print(location_labels)"
   ]
  },
  {
   "cell_type": "code",
   "execution_count": null,
   "metadata": {},
   "outputs": [],
   "source": [
    "df['care_group-location'] = df['care_group'] + ' - ' + df['location']\n",
    "df['location_sorted'] = pd.Categorical(df['care_group-location'], location_labels)\n",
    "df = df.sort_values(['division_sorted','care_group_sorted','location_sorted'])\n",
    "df.head()"
   ]
  },
  {
   "cell_type": "code",
   "execution_count": null,
   "metadata": {},
   "outputs": [],
   "source": [
    "location_counts = df['care_group-location'].value_counts()[df['care_group-location'].unique()]\n",
    "location_percentages = 100*location_counts/sum(location_counts.values)"
   ]
  },
  {
   "cell_type": "code",
   "execution_count": null,
   "metadata": {},
   "outputs": [],
   "source": [
    "for location,percentage in location_percentages.iteritems():\n",
    "    if percentage < 0.855827:\n",
    "        df.loc[df['care_group-location'] == location, 'care_group-location'] = location.split(\" - \")[0] + ' - Other'"
   ]
  },
  {
   "cell_type": "code",
   "execution_count": null,
   "metadata": {},
   "outputs": [],
   "source": [
    "location_counts = df['care_group-location'].value_counts()[df['care_group-location'].unique()]\n",
    "location_percentages = 100*location_counts/sum(location_counts.values)\n",
    "location_labels_split = location_counts.index.str.split(\" - \",n=1)\n",
    "location_labels = [el[1] for el in location_labels_split]\n",
    "print(location_labels)"
   ]
  },
  {
   "cell_type": "code",
   "execution_count": null,
   "metadata": {
    "scrolled": false
   },
   "outputs": [],
   "source": [
    "# Create colors\n",
    "a, b, c, d, e =[plt.cm.Reds, plt.cm.Oranges, plt.cm.Greens, plt.cm.Blues, plt.cm.Purples]\n",
    "a, c, d, e = [plt.cm.Reds, plt.cm.Greens, plt.cm.Blues, plt.cm.Purples]\n",
    "inner_ring_colours = [plt.cm.Reds, plt.cm.Greens, plt.cm.Blues, plt.cm.Purples]\n",
    "\n",
    "# First Ring (Inside)\n",
    "fig, ax = plt.subplots()\n",
    "ax.axis('equal')\n",
    "division_labels_newlines = [i.replace(' ','\\n') for i in division_labels]\n",
    "#mypie, _ = ax.pie(division_counts, radius=2, labels=division_labels_newlines, labeldistance=0.6, colors=[a(0.9), b(0.9), c(0.9), d(0.9), e(0.9)], textprops={'color':'w'})\n",
    "mypie, _ = ax.pie(division_counts, radius=1.9, labels=division_labels_newlines, labeldistance=0.5, colors=[a(0.9), c(0.9), d(0.9), e(0.9)], textprops={'color':'w'}, startangle=90, counterclock=False)\n",
    "plt.setp( mypie, width=1.9, edgecolor='white')\n",
    " \n",
    "# Second Ring (oUTside)\n",
    "care_group_labels_newlines = [i.replace(' ','\\n') for i in care_group_labels]\n",
    "care_group_labels_newlines[care_group_labels_newlines.index('Renal\\n&\\nTransplantation')] = 'Renal &\\nTransplantation'\n",
    "care_group_labels_newlines[care_group_labels_newlines.index('Critical\\nCare,\\nTheatres,\\nAnaesthetics\\n&\\nHSDU')] = 'Critical Care, Theatres,\\nAnaesthetics\\n& HSDU'\n",
    "#care_group_labels_newlines[care_group_labels_newlines.index('Imaging\\nRadiology')] = 'Imaging Radiology'\n",
    "#care_group_colours = [a(0.8), a(0.7), a(0.6), a(0.5), b(0.8), c(0.8), c(0.7), c(0.6), d(0.8), d(0.7), d(0.6), e(0.8), e(0.7), e(0.6)]\n",
    "care_group_colours = [a(0.8), a(0.7), a(0.6), c(0.8), c(0.7), c(0.6), d(0.8), d(0.7), d(0.6), e(0.8), e(0.7), e(0.6)]\n",
    "care_group_colours = []\n",
    "for i,index in enumerate(division_counts.index):\n",
    "    df_division = df[df.division == index]\n",
    "    per_division_counts = df_division['care_group'].value_counts()\n",
    "    slice_colour = 8\n",
    "    for j in range(len(per_division_counts)):\n",
    "        care_group_colours.append(inner_ring_colours[i](slice_colour/10))\n",
    "        slice_colour -= 1\n",
    "mypie2, texts = ax.pie(care_group_counts, radius=3.6, labels=care_group_labels_newlines, labeldistance=0.6, colors=care_group_colours, textprops={'color':'k'},startangle=90, counterclock=False)\n",
    "plt.setp( mypie2, width=1.7, edgecolor='white')\n",
    "care_group_label_colours = ['k' if i%2==0 else 'w' for i in range(len(care_group_counts))]\n",
    "for text, color in zip(texts, care_group_label_colours):\n",
    "    text.set_color(color)\n",
    "plt.margins(0,0)\n",
    "\n",
    "# Third Ring (oUTside)\n",
    "location_colours = [a(0.5),a(0.49),a(0.48),a(0.47),a(0.4),a(0.39),a(0.38),a(0.37),a(0.36),a(0.35),a(0.34),a(0.33),a(0.32),a(0.31),a(0.30),a(0.29),a(0.28),a(0.27),a(0.26),a(0.25),a(0.24),c(0.50),c(0.49),c(0.48),c(0.47),c(0.46),c(0.45),c(0.40),c(0.39),c(0.38),c(0.37),c(0.36),c(0.30),c(0.29),c(0.28),c(0.27),d(0.50),d(0.40),d(0.39),d(0.38),d(0.37),d(0.30),e(0.50),e(0.49),e(0.48),e(0.47),e(0.46),e(0.45),e(0.44),e(0.40),e(0.39),e(0.38),e(0.37)]\n",
    "location_colours = []\n",
    "for i,div_index in enumerate(division_counts.index):\n",
    "    df_division = df[df.division == div_index]\n",
    "    slice_colour_orig = 0.5\n",
    "    division_care_group_counts = df_division['care_group'].value_counts()[df_division['care_group'].unique()]\n",
    "    for j,care_index in enumerate(division_care_group_counts.index):\n",
    "        df_care_group = df_division[df_division['care_group-location'].str.startswith(care_index)]\n",
    "        per_care_group_counts = df_care_group['care_group-location'].value_counts()[df_care_group['care_group-location'].unique()]\n",
    "        slice_colour = slice_colour_orig - j/10\n",
    "        for k in per_care_group_counts:\n",
    "            location_colours.append(inner_ring_colours[i](slice_colour))\n",
    "            slice_colour -= 0.01\n",
    "mypie3, texts = ax.pie(location_counts, radius=3.9, labels=location_labels, colors=location_colours, startangle=90, counterclock=False)\n",
    "plt.setp( mypie3, width=0.3, edgecolor='white')\n",
    "for text, color in zip(texts, location_colours):\n",
    "    text.set_color(color)\n",
    "plt.margins(0,0)\n",
    "\n",
    "plt.title('Medicine patient safety events at QA - division (inner ring), care group (middle ring), location (outer ring)', y=2.3);"
   ]
  },
  {
   "cell_type": "code",
   "execution_count": null,
   "metadata": {},
   "outputs": [],
   "source": []
  }
 ],
 "metadata": {
  "kernelspec": {
   "display_name": "Python 3",
   "language": "python",
   "name": "python3"
  },
  "language_info": {
   "codemirror_mode": {
    "name": "ipython",
    "version": 3
   },
   "file_extension": ".py",
   "mimetype": "text/x-python",
   "name": "python",
   "nbconvert_exporter": "python",
   "pygments_lexer": "ipython3",
   "version": "3.7.3"
  }
 },
 "nbformat": 4,
 "nbformat_minor": 2
}
