{
 "cells": [
  {
   "cell_type": "code",
   "execution_count": null,
   "metadata": {},
   "outputs": [],
   "source": [
    "# Start with loading all necessary libraries\n",
    "import pandas as pd\n",
    "import pyodbc\n",
    "from collections import Counter\n",
    "import re"
   ]
  },
  {
   "cell_type": "code",
   "execution_count": null,
   "metadata": {},
   "outputs": [],
   "source": [
    "sql_conn = pyodbc.connect('DRIVER={SQL Server};'\n",
    "                            'SERVER=L_AAGname;'\n",
    "                            'DATABASE=database_name;'\n",
    "                            'Trusted_Connection=yes') \n",
    "query = \"set transaction isolation level read uncommitted select b.description, c.description, a.inc_notes, a.inc_actiontaken from DatixCRM.dbo.code_unit b join DatixCRM.dbo.incidents_main a on a.inc_unit = b.code join DatixCRM.dbo.code_locactual c on a.inc_locactual = c.code where a.inc_type='PAT' and a.inc_category='MEDIC' and a.inc_organisation='QA'\"\n",
    "df = pd.read_sql(query, sql_conn)\n",
    "column_names = list(df.columns)\n",
    "column_names[0] = 'division_care_group'\n",
    "column_names[1] = 'location'\n",
    "df.columns = column_names\n",
    "df.head()"
   ]
  },
  {
   "cell_type": "code",
   "execution_count": null,
   "metadata": {},
   "outputs": [],
   "source": [
    "#consecutive_caps_series_location = df['location'].str.findall(r\"((?:\\b[A-Za-z&]+\\b\\s)+\\([A-Za-z][A-Za-z]+\\))\")\n",
    "consecutive_caps_series_notes = df['inc_notes'].str.findall(r\"((?:\\b[A-Za-z]+\\b\\s)+\\([A-Za-z][A-Za-z]+\\))\")\n",
    "consecutive_caps_series_action = df['inc_actiontaken'].str.findall(r\"((?:\\b[A-Za-z]+\\b\\s)+\\([A-Za-z][A-Za-z]+\\))\")\n",
    "#consecutive_caps_series = pd.concat([consecutive_caps_series_location,consecutive_caps_series_notes,consecutive_caps_series_action])\n",
    "consecutive_caps_series = pd.concat([consecutive_caps_series_notes,consecutive_caps_series_action])\n",
    "print(consecutive_caps_series)\n",
    "consecutive_caps_series = consecutive_caps_series[consecutive_caps_series.map(lambda d: len(d)) > 0]\n",
    "slist = []\n",
    "for x in consecutive_caps_series:\n",
    "    slist.extend(x)\n",
    "\n",
    "term_to_abbreviation_dict = {}\n",
    "for l in slist:\n",
    "    inside_brackets = re.findall(r\"\\(([A-Za-z]+)\\)\", l)[0]\n",
    "    len_inside_brackets = len(inside_brackets)\n",
    "    num_words = len(l.split()) - 1\n",
    "    words_before_brackets = []\n",
    "    for i in range(len_inside_brackets):\n",
    "        if i<num_words: words_before_brackets.insert(0,l.split(\" \")[-i-2])\n",
    "    string_before_brackets = \" \".join(words_before_brackets)\n",
    "    if string_before_brackets[0].lower()==inside_brackets[0].lower(): \n",
    "        term_to_abbreviation_dict[string_before_brackets] = inside_brackets\n",
    "for key,val in dict(term_to_abbreviation_dict).items():\n",
    "    if val=='OD': del term_to_abbreviation_dict[key]\n",
    "    elif val=='PIVOTAL': del term_to_abbreviation_dict[key]\n",
    "    elif val.lower().startswith('pri'): del term_to_abbreviation_dict[key]\n",
    "    elif val=='fresh': del term_to_abbreviation_dict[key]\n",
    "    elif val=='West': del term_to_abbreviation_dict[key]\n",
    "    elif val.lower()=='oxynorm': del term_to_abbreviation_dict[key]\n",
    "    elif val=='methylprednisolone': del term_to_abbreviation_dict[key]\n",
    "    elif val=='cetraben': del term_to_abbreviation_dict[key]\n",
    "    elif val=='Levemir': del term_to_abbreviation_dict[key]\n",
    "    elif val=='Desmopressin': del term_to_abbreviation_dict[key]\n",
    "    elif val.lower()=='oramorph': del term_to_abbreviation_dict[key]\n",
    "    elif val=='insulatard': del term_to_abbreviation_dict[key]\n",
    "    elif val=='missing': del term_to_abbreviation_dict[key]\n",
    "    elif val=='insulatard': del term_to_abbreviation_dict[key]\n",
    "    elif val=='SS': del term_to_abbreviation_dict[key]\n",
    "    elif val=='Tramadol': del term_to_abbreviation_dict[key]\n",
    "    elif val.lower()=='eprex': del term_to_abbreviation_dict[key]\n",
    "    elif val=='Tuesday': del term_to_abbreviation_dict[key]\n",
    "    elif val=='cloudy': del term_to_abbreviation_dict[key]\n",
    "    elif val=='stable': del term_to_abbreviation_dict[key]\n",
    "    elif val=='Solent': del term_to_abbreviation_dict[key]\n",
    "    elif val=='carer': del term_to_abbreviation_dict[key]\n",
    "    elif val=='Omeprazole': del term_to_abbreviation_dict[key]\n",
    "term_to_abbreviation_dict['Intravenous'] = term_to_abbreviation_dict.pop('Intravenous Antibiotics')\n",
    "term_to_abbreviation_dict['Morphine sulphate'] = term_to_abbreviation_dict.pop('Morphine sulphate MR')\n",
    "#term_to_abbreviation_dict['Department of Critical Care'] = 'DCCQ'\n",
    "#term_to_abbreviation_dict['MAU'] = 'AMU'\n",
    "\n",
    "consecutive_caps_series_notes_inv = df['inc_notes'].str.findall(r\"[A-Za-z][A-Za-z]+\\s\\((?:\\b[A-Za-z]+\\b\\s)(?:\\b[A-Za-z]+\\b\\s?)+\\)\")\n",
    "consecutive_caps_series_action_inv = df['inc_actiontaken'].str.findall(r\"[A-Za-z][A-Za-z]+\\s\\((?:\\b[A-Za-z]+\\b\\s)(?:\\b[A-Za-z]+\\b\\s?)+\\)\")\n",
    "consecutive_caps_series_notes_inv = consecutive_caps_series_notes_inv[consecutive_caps_series_notes_inv.map(lambda d: len(d)) > 0]\n",
    "slist = []\n",
    "for x in consecutive_caps_series_notes_inv:\n",
    "    slist.extend(x)\n",
    "for l in slist:\n",
    "    inside_brackets = re.findall(r\"\\((?:\\b[A-Za-z]+\\b\\s)(?:\\b[A-Za-z]+\\b\\s?)+\\)\", l)[0]\n",
    "    words_inside_brackets = len(inside_brackets.split())\n",
    "    word_before_brackets = l.split()[0]\n",
    "    if words_inside_brackets==len(word_before_brackets) and inside_brackets[1].lower()==word_before_brackets[0].lower() and inside_brackets.split()[1].lower()[0]==word_before_brackets[1].lower():\n",
    "        term_to_abbreviation_dict[inside_brackets[1:-1]] = word_before_brackets\n",
    "if 'CARDIAC DAY UNIT' in term_to_abbreviation_dict.keys(): del term_to_abbreviation_dict['CARDIAC DAY UNIT']\n",
    "#term_to_abbreviation_dict = {key.lower():val.lower() for (key,val) in term_to_abbreviation_dict.items()}\n",
    "for key,val in term_to_abbreviation_dict.items():\n",
    "    print(key+\" & \"+val+'\\\\\\\\')"
   ]
  },
  {
   "cell_type": "code",
   "execution_count": null,
   "metadata": {},
   "outputs": [],
   "source": [
    "ward_num_series = df['location'].str.findall(r\"[A-G][0-9]\\s.+\")\n",
    "ward_num_series = ward_num_series[ward_num_series.map(lambda d: len(d)) > 0]\n",
    "slist = []\n",
    "for x in ward_num_series:\n",
    "    slist.extend(x)\n",
    "ward_name_to_num_dict = {}\n",
    "for l in slist:\n",
    "    l_split = l.split()\n",
    "    name = \" \".join(l_split[1:])\n",
    "    name = name.strip(\"- \")\n",
    "    ward_name_to_num_dict[name.lower()] = l_split[0].lower()\n",
    "ward_name_to_num_dict['dccq'] = 'e5'\n",
    "for key,val in ward_name_to_num_dict.items():\n",
    "    print(key+\": \"+val)"
   ]
  },
  {
   "cell_type": "code",
   "execution_count": null,
   "metadata": {},
   "outputs": [],
   "source": [
    "df_19 = df[df['inc_notes'].str.lower().str.contains(\"medication administration record\",regex=False)]\n",
    "print(df_19['inc_notes'].values)"
   ]
  },
  {
   "cell_type": "code",
   "execution_count": null,
   "metadata": {},
   "outputs": [],
   "source": [
    "import csv\n",
    "csv_columns = ['Term','Abbreviation']\n",
    "csv_file = \"Names.csv\"\n",
    "with open('test.csv', 'w') as f:\n",
    "    for key in term_to_abbreviation_dict.keys():\n",
    "        f.write(\"%s,%s\\n\"%(key,term_to_abbreviation_dict[key]))"
   ]
  },
  {
   "cell_type": "code",
   "execution_count": null,
   "metadata": {},
   "outputs": [],
   "source": []
  }
 ],
 "metadata": {
  "kernelspec": {
   "display_name": "Python 3",
   "language": "python",
   "name": "python3"
  },
  "language_info": {
   "codemirror_mode": {
    "name": "ipython",
    "version": 3
   },
   "file_extension": ".py",
   "mimetype": "text/x-python",
   "name": "python",
   "nbconvert_exporter": "python",
   "pygments_lexer": "ipython3",
   "version": "3.7.3"
  }
 },
 "nbformat": 4,
 "nbformat_minor": 2
}
