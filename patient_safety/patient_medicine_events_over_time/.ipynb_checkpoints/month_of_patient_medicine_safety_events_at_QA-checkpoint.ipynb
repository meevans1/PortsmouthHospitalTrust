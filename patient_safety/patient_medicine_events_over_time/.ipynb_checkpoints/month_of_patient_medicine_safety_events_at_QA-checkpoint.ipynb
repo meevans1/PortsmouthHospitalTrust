{
 "cells": [
  {
   "cell_type": "code",
   "execution_count": null,
   "metadata": {},
   "outputs": [],
   "source": [
    "import pandas as pd\n",
    "import numpy as np\n",
    "import matplotlib.pyplot as plt\n",
    "import matplotlib.image as mpimg\n",
    "import pyodbc\n",
    "from lmfit.models import PolynomialModel\n",
    "import math"
   ]
  },
  {
   "cell_type": "code",
   "execution_count": null,
   "metadata": {},
   "outputs": [],
   "source": [
    "sql_conn = pyodbc.connect('DRIVER={SQL Server};'\n",
    "                            'SERVER=L_AAGname;'\n",
    "                            'DATABASE=database_name;'\n",
    "                            'Trusted_Connection=yes') \n",
    "query = \"set transaction isolation level read uncommitted select inc_dincident,inc_dreported from DatixCRM.dbo.incidents_main where inc_type='PAT' and inc_category='MEDIC' and inc_organisation='QA'\"\n",
    "df = pd.read_sql(query, sql_conn)\n",
    "print(df)"
   ]
  },
  {
   "cell_type": "code",
   "execution_count": null,
   "metadata": {},
   "outputs": [],
   "source": [
    "df_inc = df.copy()\n",
    "df_inc = df_inc[df_inc.inc_dincident > '2016-03-31']\n",
    "df_inc = df_inc[df_inc.inc_dincident < '2019-10-01']\n",
    "print(df_inc)"
   ]
  },
  {
   "cell_type": "code",
   "execution_count": null,
   "metadata": {},
   "outputs": [],
   "source": [
    "df_inc['month'] = df_inc['inc_dincident'].dt.month\n",
    "print(df_inc)"
   ]
  },
  {
   "cell_type": "code",
   "execution_count": null,
   "metadata": {},
   "outputs": [],
   "source": [
    "month_occurences = np.array([3,3,3,4,4,4,4,4,4,3,3,3])\n",
    "print(month_occurences)"
   ]
  },
  {
   "cell_type": "code",
   "execution_count": null,
   "metadata": {},
   "outputs": [],
   "source": [
    "days_in_month = np.ones(12)*31\n",
    "days_in_month[1] = 28\n",
    "days_in_month[3] = 30\n",
    "days_in_month[5] = 30\n",
    "days_in_month[8] = 30\n",
    "days_in_month[10] = 30\n",
    "print(days_in_month)"
   ]
  },
  {
   "cell_type": "code",
   "execution_count": null,
   "metadata": {},
   "outputs": [],
   "source": [
    "division_factor = month_occurences*days_in_month\n",
    "print(division_factor)"
   ]
  },
  {
   "cell_type": "code",
   "execution_count": null,
   "metadata": {},
   "outputs": [],
   "source": [
    "bins = [i+0.5 for i in range(13)]\n",
    "data_x = [i+1 for i in range(12)]\n",
    "data_y_tot,_ = np.histogram(df_inc.month.values, bins=bins)\n",
    "data_y = data_y_tot/division_factor\n",
    "data_y_err = np.sqrt(data_y_tot)/division_factor\n",
    "plt.bar(data_x,data_y,label='Data')\n",
    "plt.bar(data_x,data_y_err,bottom=data_y-data_y_err/2,alpha=0.5,color='none',hatch=\"////\",label='Uncertainty')\n",
    "#plt.legend(frameon=False)\n",
    "ax = plt.gca()\n",
    "locs, labels = plt.xticks()\n",
    "plt.xticks(data_x,labels=['Jan','Feb','Mar','Apr','May','Jun','Jul','Aug','Sep','Oct','Nov','Dec'])\n",
    "plt.xlabel('Month');\n",
    "plt.ylabel('# events per day')\n",
    "plt.title('Daily number of patient medicine safety events at QA')\n",
    "img = plt.imread(\"nhsportsmouth.png\");\n",
    "ax = plt.axes([0.125+0.01,0.65, 0.3, 0.3], frameon=True)  # Change the numbers in this array to position your image [left, bottom, width, height])\n",
    "#ax.imshow(img)\n",
    "ax.axis('off')  # get rid of the ticks and ticklabels"
   ]
  },
  {
   "cell_type": "code",
   "execution_count": null,
   "metadata": {},
   "outputs": [],
   "source": []
  },
  {
   "cell_type": "code",
   "execution_count": null,
   "metadata": {},
   "outputs": [],
   "source": [
    "k = 0\n",
    "reduced_chi_sq = 3\n",
    "while reduced_chi_sq > 2 or reduced_chi_sq < 0.5:\n",
    "    # data fit\n",
    "    polynomial_mod = PolynomialModel(k)\n",
    "    pars = polynomial_mod.guess(data_y, x=data_x, c0=data_y[0])\n",
    "    model = polynomial_mod\n",
    "    out = model.fit(data_y, pars, x=data_x, weights=1/data_y_err)\n",
    "\n",
    "    plt.bar(data_x,data_y,label='Data')\n",
    "    plt.bar(data_x,data_y_err,bottom=data_y-data_y_err/2,alpha=0.5,color='none',hatch=\"////\",label='Uncertainty')\n",
    "    plt.plot(data_x, out.best_fit, '-r', label='Fit '+r'$\\chi^2/N_{df}$ = '+str(round(out.redchi,1)))\n",
    "    plt.legend(loc=(1.04,0))\n",
    "    ax = plt.gca()\n",
    "    locs, labels = plt.xticks()\n",
    "    plt.xticks(data_x,labels=['Jan','Feb','Mar','Apr','May','Jun','Jul','Aug','Sep','Oct','Nov','Dec'])\n",
    "    plt.xlabel('Month');\n",
    "    plt.ylabel('# events per day')\n",
    "    plt.title('Daily number of patient medicine safety events at QA')\n",
    "    img = plt.imread(\"nhsportsmouth.png\");\n",
    "    ax = plt.axes([0.91,0.65, 0.3, 0.3], frameon=True)  # Change the numbers in this array to position your image [left, bottom, width, height])\n",
    "    ax.imshow(img)\n",
    "    ax.axis('off')  # get rid of the ticks and ticklabels\n",
    "    \n",
    "    reduced_chi_sq = out.redchi\n",
    "    k+=1"
   ]
  },
  {
   "cell_type": "code",
   "execution_count": null,
   "metadata": {},
   "outputs": [],
   "source": [
    "df_rep = df.copy()\n",
    "df_rep = df_rep[df_rep.inc_dreported > '2016-03-31']\n",
    "df_rep = df_rep[df_rep.inc_dreported < '2019-10-01']"
   ]
  },
  {
   "cell_type": "code",
   "execution_count": null,
   "metadata": {},
   "outputs": [],
   "source": [
    "df_rep['month'] = df_rep['inc_dreported'].dt.month"
   ]
  },
  {
   "cell_type": "code",
   "execution_count": null,
   "metadata": {},
   "outputs": [],
   "source": [
    "k = 0\n",
    "reduced_chi_sq = 3\n",
    "while reduced_chi_sq > 2 or reduced_chi_sq < 0.5:\n",
    "    # data fit\n",
    "    polynomial_mod = PolynomialModel(k)\n",
    "    pars = polynomial_mod.guess(data_y, x=data_x, c0=data_y[0])\n",
    "    model = polynomial_mod\n",
    "    out = model.fit(data_y, pars, x=data_x, weights=1/data_y_err)\n",
    "\n",
    "    plt.bar(data_x,data_y,label='Data')\n",
    "    plt.bar(data_x,data_y_err,bottom=data_y-data_y_err/2,alpha=0.5,color='none',hatch=\"////\",label='Uncertainty')\n",
    "    plt.plot(data_x, out.best_fit, '-r', label='Fit '+r'$\\chi^2/N_{df}$ = '+str(round(out.redchi,1)))\n",
    "    plt.legend(loc=(1.04,0))\n",
    "    ax = plt.gca()\n",
    "    locs, labels = plt.xticks()\n",
    "    plt.xticks(data_x,labels=['Jan','Feb','Mar','Apr','May','Jun','Jul','Aug','Sep','Oct','Nov','Dec'])\n",
    "    plt.xlabel('Month');\n",
    "    plt.ylabel('# events per day')\n",
    "    plt.title('Daily number of patient medicine safety events at QA')\n",
    "    img = plt.imread(\"nhsportsmouth.png\");\n",
    "    ax = plt.axes([0.91,0.65, 0.3, 0.3], frameon=True)  # Change the numbers in this array to position your image [left, bottom, width, height])\n",
    "    ax.imshow(img)\n",
    "    ax.axis('off')  # get rid of the ticks and ticklabels\n",
    "    \n",
    "    reduced_chi_sq = out.redchi\n",
    "    k+=1"
   ]
  },
  {
   "cell_type": "code",
   "execution_count": null,
   "metadata": {},
   "outputs": [],
   "source": [
    "# Import figure from bokeh.plotting\n",
    "from bokeh.plotting import figure\n",
    "\n",
    "# Import output_file and show from bokeh.io\n",
    "from bokeh.io import show, output_notebook\n",
    "\n",
    "from bokeh.models import ColumnDataSource, Band, Legend, LegendItem, Span, HoverTool\n",
    "\n",
    "\n",
    "groups= ['Jan','Feb','Mar','Apr','May','Jun','Jul','Aug','Sep','Oct','Nov','Dec']\n",
    "counts = data_y\n",
    "error = data_y_err\n",
    "upper = [x+e for x,e in zip(counts, error) ]\n",
    "lower = [x-e for x,e in zip(counts, error) ]\n",
    "color = ['blue','blue','green','green','green','red','red','red','yellow','yellow','yellow','blue']\n",
    "\n",
    "source = ColumnDataSource(data=dict(groups=groups, counts=counts, upper=upper, lower=lower, color=color))\n",
    "\n",
    "p = figure(x_range=groups, plot_height=450, title=\"Daily medicine patient safety events at QA\", y_range=(0,math.ceil(max(counts))-0.2),\n",
    "          x_axis_label='Month',y_axis_label='events per day',\n",
    "          tools='pan,box_select,box_zoom,wheel_zoom,save,reset,help')\n",
    "\n",
    "p.vbar(x='groups', top='counts', width=0.9, source=source, \n",
    "       line_color='white', color='color',nonselection_alpha=0, \n",
    "         hover_fill_color='black')\n",
    "r_err = p.vbar(x='groups', bottom='lower', top='upper', width=0.9, source=source, fill_color='grey', fill_alpha=0.9,\n",
    "      line_color='white')\n",
    "r_linear = p.line(groups,out.best_fit,line_color='purple')\n",
    "\n",
    "p.xgrid.grid_line_color = None\n",
    "\n",
    "legend = Legend(items=[\n",
    "    LegendItem(label=\"winter\", renderers=[p.vbar(x=0, top=0, width=0.9, color='blue')]),\n",
    "    LegendItem(label=\"spring\", renderers=[p.vbar(x=0, top=0, width=0.9, color='green')]),\n",
    "    LegendItem(label=\"summer\", renderers=[p.vbar(x=0, top=0, width=0.9, color='red')]),\n",
    "    LegendItem(label=\"autumn\", renderers=[p.vbar(x=0, top=0, width=0.9, color='yellow')]),\n",
    "    LegendItem(label=\"uncertainty\", renderers=[r_err]),\n",
    "    LegendItem(label='fit χ²/Nᵈᶠ = '+str(round(out.redchi,1)), renderers=[r_linear]),\n",
    "])\n",
    "p.add_layout(legend)\n",
    "p.legend.location = \"bottom_right\"\n",
    "\n",
    "# Create a HoverTool: hover\n",
    "hover = HoverTool(tooltips=None,mode='hline')\n",
    "\n",
    "# Add the hover tool to the figure p\n",
    "p.add_tools(hover)\n",
    "\n",
    "output_notebook()\n"
   ]
  },
  {
   "cell_type": "code",
   "execution_count": null,
   "metadata": {},
   "outputs": [],
   "source": [
    "show(p)"
   ]
  },
  {
   "cell_type": "code",
   "execution_count": null,
   "metadata": {},
   "outputs": [],
   "source": []
  }
 ],
 "metadata": {
  "kernelspec": {
   "display_name": "Python 3",
   "language": "python",
   "name": "python3"
  },
  "language_info": {
   "codemirror_mode": {
    "name": "ipython",
    "version": 3
   },
   "file_extension": ".py",
   "mimetype": "text/x-python",
   "name": "python",
   "nbconvert_exporter": "python",
   "pygments_lexer": "ipython3",
   "version": "3.7.3"
  }
 },
 "nbformat": 4,
 "nbformat_minor": 2
}
