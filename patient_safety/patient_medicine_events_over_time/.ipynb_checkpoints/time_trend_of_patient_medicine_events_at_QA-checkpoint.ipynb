{
 "cells": [
  {
   "cell_type": "code",
   "execution_count": null,
   "metadata": {},
   "outputs": [],
   "source": [
    "import pandas as pd\n",
    "import numpy as np\n",
    "import matplotlib.pyplot as plt\n",
    "import matplotlib.image as mpimg\n",
    "import pyodbc\n",
    "from lmfit.models import PolynomialModel\n",
    "import math"
   ]
  },
  {
   "cell_type": "code",
   "execution_count": null,
   "metadata": {},
   "outputs": [],
   "source": [
    "sql_conn = pyodbc.connect('DRIVER={SQL Server};'\n",
    "                            'SERVER=L_AAGname;'\n",
    "                            'DATABASE=database_name;'\n",
    "                            'Trusted_Connection=yes') \n",
    "query = \"set transaction isolation level read uncommitted select inc_dincident,inc_dreported from DatixCRM.dbo.incidents_main where inc_type='PAT' and inc_category='MEDIC' and inc_organisation='QA'\"\n",
    "df = pd.read_sql(query, sql_conn)\n",
    "print(df)"
   ]
  },
  {
   "cell_type": "code",
   "execution_count": null,
   "metadata": {},
   "outputs": [],
   "source": [
    "df_inc = df.copy()\n",
    "df_inc = df_inc[df_inc.inc_dincident > '2016-03-31']\n",
    "df_inc = df_inc[df_inc.inc_dincident < '2019-10-01']\n",
    "print(df)"
   ]
  },
  {
   "cell_type": "code",
   "execution_count": null,
   "metadata": {},
   "outputs": [],
   "source": [
    "month_year = df.groupby([df_inc.inc_dincident.dt.year, df_inc.inc_dincident.dt.month]).agg('count')\n",
    "print(month_year.values)"
   ]
  },
  {
   "cell_type": "code",
   "execution_count": null,
   "metadata": {},
   "outputs": [],
   "source": [
    "days_in_month = np.ones(len(month_year.values))*31\n",
    "days_in_month[0] = 30\n",
    "days_in_month[2] = 30\n",
    "days_in_month[5] = 30\n",
    "days_in_month[7] = 30\n",
    "days_in_month[10] = 28\n",
    "days_in_month[12] = 30\n",
    "days_in_month[14] = 30\n",
    "days_in_month[17] = 30\n",
    "days_in_month[19] = 30\n",
    "days_in_month[22] = 28\n",
    "days_in_month[24] = 30\n",
    "days_in_month[26] = 30\n",
    "days_in_month[29] = 30\n",
    "days_in_month[31] = 30\n",
    "days_in_month[34] = 28\n",
    "days_in_month[36] = 30\n",
    "days_in_month[38] = 30\n",
    "days_in_month[41] = 30\n",
    "print(days_in_month)"
   ]
  },
  {
   "cell_type": "code",
   "execution_count": null,
   "metadata": {},
   "outputs": [],
   "source": [
    "months_labels = ['Apr 16', 'May 16', 'Jun 16', 'Jul 16', 'Aug 16', 'Sep 16', 'Oct 16', 'Nov 16', 'Dec 16', 'Jan 17', 'Feb 17', 'Mar 17', 'Apr 17', 'May 17', 'Jun 17', 'Jul 17', 'Aug 17', 'Sep 17', 'Oct 17', 'Nov 17', 'Dec 17', 'Jan 18', 'Feb 18', 'Mar 18', 'Apr 18', 'May 18', 'Jun 18', 'Jul 18', 'Aug 18', 'Sep 18', 'Oct 18', 'Nov 18', 'Dec 18', 'Jan 19', 'Feb 19', 'Mar 19', 'Apr 19', 'May 19', 'Jun 19', 'Jul 19', 'Aug 19', 'Sep 19']"
   ]
  },
  {
   "cell_type": "code",
   "execution_count": null,
   "metadata": {},
   "outputs": [],
   "source": [
    "num_per_day = month_year.inc_dincident.values/days_in_month\n",
    "num_per_day_err = np.sqrt(month_year.inc_dincident.values)/days_in_month"
   ]
  },
  {
   "cell_type": "code",
   "execution_count": null,
   "metadata": {},
   "outputs": [],
   "source": [
    "plt.errorbar(months_labels,num_per_day,num_per_day_err,capsize=5,fmt='o',label='Data');\n",
    "plt.xticks(rotation='vertical');\n",
    "plt.legend(loc='lower right',frameon=False)\n",
    "plt.ylabel('Patient medicine safety events per day')\n",
    "plt.xlabel('Month year')\n",
    "plt.title('Daily number of patient medicine safety events')\n",
    "img = plt.imread(\"nhsportsmouth.png\");\n",
    "ax = plt.axes([0.125+0.01,0.5, 0.6, 0.6], frameon=True)  # Change the numbers in this array to position your image [left, bottom, width, height])\n",
    "ax.imshow(img)\n",
    "ax.axis('off')  # get rid of the ticks and ticklabels"
   ]
  },
  {
   "cell_type": "code",
   "execution_count": null,
   "metadata": {},
   "outputs": [],
   "source": [
    "data_x = np.array([i for i in range(len(months_labels))])\n",
    "data_y = num_per_day"
   ]
  },
  {
   "cell_type": "code",
   "execution_count": null,
   "metadata": {},
   "outputs": [],
   "source": [
    "# data fit\n",
    "polynomial_mod = PolynomialModel(1)\n",
    "pars = polynomial_mod.guess(data_y, x=data_x, c0=data_y[0], c1=0)\n",
    "model = polynomial_mod\n",
    "out = model.fit(data_y, pars, x=data_x)"
   ]
  },
  {
   "cell_type": "code",
   "execution_count": null,
   "metadata": {},
   "outputs": [],
   "source": [
    "plt.errorbar(months_labels,num_per_day,num_per_day_err,capsize=5,fmt='o',label='Data');\n",
    "plt.plot(months_labels, out.best_fit, label='Linear Fit')\n",
    "plt.xticks(rotation='vertical');\n",
    "plt.legend(loc='lower right',frameon=False)\n",
    "plt.ylabel('Patient medicine safety events per day')\n",
    "plt.xlabel('Month year')\n",
    "plt.title('Daily number of patient medicine safety events')\n",
    "img = plt.imread(\"nhsportsmouth.png\");\n",
    "ax = plt.axes([0.125+0.01,0.5, 0.6, 0.6], frameon=True)  # Change the numbers in this array to position your image [left, bottom, width, height])\n",
    "ax.imshow(img)\n",
    "ax.axis('off')  # get rid of the ticks and ticklabels"
   ]
  },
  {
   "cell_type": "code",
   "execution_count": null,
   "metadata": {},
   "outputs": [],
   "source": [
    "season_labels = ['Spring' for i in range(len(months_labels))]\n",
    "for i in range(len(season_labels)):\n",
    "    if 'Ju' in months_labels[i]: season_labels[i]='Summer'\n",
    "    elif 'Au' in months_labels[i]: season_labels[i]='Summer'\n",
    "    elif 'Se' in months_labels[i]: season_labels[i]='Autumn'\n",
    "    elif 'Oc' in months_labels[i]: season_labels[i]='Autumn'\n",
    "    elif 'No' in months_labels[i]: season_labels[i]='Autumn'\n",
    "    elif 'De' in months_labels[i]: season_labels[i]='Winter'\n",
    "    elif 'Ja' in months_labels[i]: season_labels[i]='Winter'\n",
    "    elif 'Fe' in months_labels[i]: season_labels[i]='Winter'\n",
    "print(season_labels)\n",
    "colors = ['red','green','blue','purple']\n",
    "season_codes = []\n",
    "for season in season_labels:\n",
    "    if season == 'Spring': season_codes.append(0)\n",
    "    elif season == 'Summer': season_codes.append(1)\n",
    "    elif season == 'Autumn': season_codes.append(2)\n",
    "    else: season_codes.append(3)\n",
    "print(season_codes)\n",
    "season_colours = []\n",
    "for season in season_labels:\n",
    "    if season == 'Spring': season_colours.append('red')\n",
    "    elif season == 'Summer': season_colours.append('green')\n",
    "    elif season == 'Autumn': season_colours.append('blue')\n",
    "    else: season_colours.append('purple')\n",
    "print(season_colours)\n",
    "print(len(months_labels))\n",
    "print(len(num_per_day))\n",
    "print(len(num_per_day_err))\n",
    "print(len(season_colours))"
   ]
  },
  {
   "cell_type": "code",
   "execution_count": null,
   "metadata": {},
   "outputs": [],
   "source": [
    "num_per_spring_day = np.zeros(len(num_per_day))\n",
    "num_per_summer_day = np.zeros(len(num_per_day))\n",
    "num_per_autumn_day = np.zeros(len(num_per_day))\n",
    "num_per_winter_day = np.zeros(len(num_per_day))\n",
    "for idx,season in enumerate(season_labels):\n",
    "    if season == 'Spring': num_per_spring_day[idx] = num_per_day[idx]\n",
    "    elif season == 'Summer': num_per_summer_day[idx] = num_per_day[idx]\n",
    "    elif season == 'Autumn': num_per_autumn_day[idx] = num_per_day[idx]\n",
    "    else: num_per_winter_day[idx] = num_per_day[idx]\n",
    "print(num_per_spring_day)"
   ]
  },
  {
   "cell_type": "code",
   "execution_count": null,
   "metadata": {},
   "outputs": [],
   "source": [
    "plt.errorbar(months_labels,num_per_spring_day,num_per_day_err,capsize=5,fmt='go',label='Spring');\n",
    "plt.errorbar(months_labels,num_per_summer_day,num_per_day_err,capsize=5,fmt='ro',label='Summer');\n",
    "plt.errorbar(months_labels,num_per_autumn_day,num_per_day_err,capsize=5,fmt='yo',label='Autumn');\n",
    "plt.errorbar(months_labels,num_per_winter_day,num_per_day_err,capsize=5,fmt='bo',label='Winter');\n",
    "plt.plot(months_labels, out.best_fit, '-m',label='Linear Fit')\n",
    "plt.xticks(rotation='vertical');\n",
    "plt.legend(loc='lower right',frameon=False)\n",
    "plt.ylabel('Patient medicine safety events per day')\n",
    "plt.xlabel('Month year occured')\n",
    "plt.title('Daily number of patient medicine safety events at QA')\n",
    "plt.ylim(bottom=3.1)\n",
    "img = plt.imread(\"nhsportsmouth.png\");\n",
    "ax = plt.axes([0.125+0.01,0.5, 0.6, 0.6], frameon=True)  # Change the numbers in this array to position your image [left, bottom, width, height])\n",
    "ax.imshow(img)\n",
    "ax.axis('off')  # get rid of the ticks and ticklabels"
   ]
  },
  {
   "cell_type": "code",
   "execution_count": null,
   "metadata": {},
   "outputs": [],
   "source": [
    "df_rep = df.copy()\n",
    "df_rep = df_rep[df_rep.inc_dreported > '2016-03-31']\n",
    "df_rep = df_rep[df_rep.inc_dreported < '2019-10-01']"
   ]
  },
  {
   "cell_type": "code",
   "execution_count": null,
   "metadata": {},
   "outputs": [],
   "source": [
    "month_year = df.groupby([df_rep.inc_dreported.dt.year, df_rep.inc_dreported.dt.month]).agg('count')"
   ]
  },
  {
   "cell_type": "code",
   "execution_count": null,
   "metadata": {},
   "outputs": [],
   "source": [
    "num_per_day = month_year.inc_dreported.values/days_in_month\n",
    "num_per_day_err = np.sqrt(month_year.inc_dreported.values)/days_in_month"
   ]
  },
  {
   "cell_type": "code",
   "execution_count": null,
   "metadata": {},
   "outputs": [],
   "source": [
    "data_x = np.array([i for i in range(len(months_labels))])\n",
    "data_y = num_per_day"
   ]
  },
  {
   "cell_type": "code",
   "execution_count": null,
   "metadata": {},
   "outputs": [],
   "source": [
    "# data fit\n",
    "polynomial_mod = PolynomialModel(1)\n",
    "pars = polynomial_mod.guess(data_y, x=data_x, c0=data_y[0], c1=0)\n",
    "model = polynomial_mod\n",
    "out = model.fit(data_y, pars, x=data_x)"
   ]
  },
  {
   "cell_type": "code",
   "execution_count": null,
   "metadata": {},
   "outputs": [],
   "source": [
    "num_per_spring_day = np.ones(len(num_per_day))*100\n",
    "num_per_summer_day = np.ones(len(num_per_day))*100\n",
    "num_per_autumn_day = np.ones(len(num_per_day))*100\n",
    "num_per_winter_day = np.ones(len(num_per_day))*100\n",
    "for idx,season in enumerate(season_labels):\n",
    "    if season == 'Spring': num_per_spring_day[idx] = num_per_day[idx]\n",
    "    elif season == 'Summer': num_per_summer_day[idx] = num_per_day[idx]\n",
    "    elif season == 'Autumn': num_per_autumn_day[idx] = num_per_day[idx]\n",
    "    else: num_per_winter_day[idx] = num_per_day[idx]"
   ]
  },
  {
   "cell_type": "code",
   "execution_count": null,
   "metadata": {},
   "outputs": [],
   "source": [
    "plt.errorbar(months_labels,num_per_spring_day,num_per_day_err,capsize=5,fmt='go',label='Spring');\n",
    "plt.errorbar(months_labels,num_per_summer_day,num_per_day_err,capsize=5,fmt='ro',label='Summer');\n",
    "plt.errorbar(months_labels,num_per_autumn_day,num_per_day_err,capsize=5,fmt='yo',label='Autumn');\n",
    "plt.errorbar(months_labels,num_per_winter_day,num_per_day_err,capsize=5,fmt='bo',label='Winter');\n",
    "plt.plot(months_labels, out.best_fit, '-m',label='Linear Fit')\n",
    "plt.xticks(rotation='vertical');\n",
    "plt.legend(loc='lower right',frameon=False)\n",
    "plt.ylabel('Patient medicine safety events per day')\n",
    "plt.xlabel('Month year reported')\n",
    "plt.title('Daily number of patient medicine safety events at QA')\n",
    "plt.ylim(bottom=0,top=11.9)\n",
    "img = plt.imread(\"nhsportsmouth.png\");\n",
    "ax = plt.axes([0.125+0.01,0.5, 0.6, 0.6], frameon=True)  # Change the numbers in this array to position your image [left, bottom, width, height])\n",
    "ax.imshow(img)\n",
    "ax.axis('off')  # get rid of the ticks and ticklabels"
   ]
  },
  {
   "cell_type": "code",
   "execution_count": null,
   "metadata": {},
   "outputs": [],
   "source": [
    "# Import figure from bokeh.plotting\n",
    "from bokeh.plotting import figure\n",
    "\n",
    "# Import output_file and show from bokeh.io\n",
    "from bokeh.io import show, output_notebook\n",
    "\n",
    "from bokeh.models import ColumnDataSource, Whisker, Legend, LegendItem, Span, HoverTool\n",
    "\n",
    "\n",
    "upper_spring = [x+e for x,e in zip(num_per_spring_day, num_per_day_err) ]\n",
    "lower_spring = [x-e for x,e in zip(num_per_spring_day, num_per_day_err) ]\n",
    "upper_summer = [x+e for x,e in zip(num_per_summer_day, num_per_day_err) ]\n",
    "lower_summer = [x-e for x,e in zip(num_per_summer_day, num_per_day_err) ]\n",
    "upper_autumn = [x+e for x,e in zip(num_per_autumn_day, num_per_day_err) ]\n",
    "lower_autumn = [x-e for x,e in zip(num_per_autumn_day, num_per_day_err) ]\n",
    "upper_winter = [x+e for x,e in zip(num_per_winter_day, num_per_day_err) ]\n",
    "lower_winter = [x-e for x,e in zip(num_per_winter_day, num_per_day_err) ]\n",
    "\n",
    "spring_source = ColumnDataSource(data=dict(groups=months_labels, counts=num_per_spring_day, upper=upper_spring, lower=lower_spring))\n",
    "summer_source = ColumnDataSource(data=dict(groups=months_labels, counts=num_per_summer_day, upper=upper_summer, lower=lower_summer))\n",
    "autumn_source = ColumnDataSource(data=dict(groups=months_labels, counts=num_per_autumn_day, upper=upper_autumn, lower=lower_autumn))\n",
    "winter_source = ColumnDataSource(data=dict(groups=months_labels, counts=num_per_winter_day, upper=upper_winter, lower=lower_winter))\n",
    "\n",
    "y_max = math.ceil(max(num_per_day) / 2.) * 2\n",
    "p = figure(x_range=months_labels, title=\"Daily number of medicine patient safety events at QA\", y_range=(0,y_max),\n",
    "          x_axis_label='Month Year',y_axis_label='events per day',plot_width=900, plot_height=450,\n",
    "           tools='pan,box_select,box_zoom,wheel_zoom,save,reset,help')\n",
    "\n",
    "p.circle(months_labels,num_per_spring_day,color='green',size=10,alpha=0.5,nonselection_alpha=0, \n",
    "         hover_fill_color='black')\n",
    "p.circle(months_labels,num_per_summer_day,color='red',size=10,alpha=0.5,nonselection_alpha=0, hover_fill_color='black')\n",
    "p.circle(months_labels,num_per_autumn_day,color='yellow',size=10,alpha=0.5,nonselection_alpha=0, hover_fill_color='black')\n",
    "p.circle(months_labels,num_per_winter_day,color='blue',size=10,alpha=0.5,nonselection_alpha=0, hover_fill_color='black')\n",
    "\n",
    "p.add_layout(\n",
    "    Whisker(source=spring_source, base=\"groups\", upper=\"upper\", lower=\"lower\", level=\"overlay\", line_color='green')\n",
    ")\n",
    "p.add_layout(\n",
    "    Whisker(source=summer_source, base=\"groups\", upper=\"upper\", lower=\"lower\", level=\"overlay\", line_color='red')\n",
    ")\n",
    "p.add_layout(\n",
    "    Whisker(source=autumn_source, base=\"groups\", upper=\"upper\", lower=\"lower\", level=\"overlay\", line_color='yellow')\n",
    ")\n",
    "p.add_layout(\n",
    "    Whisker(source=winter_source, base=\"groups\", upper=\"upper\", lower=\"lower\", level=\"overlay\", line_color='blue')\n",
    ")\n",
    "\n",
    "r_linear = p.line(months_labels,out.best_fit,line_color='purple')\n",
    "\n",
    "legend = Legend(items=[\n",
    "    LegendItem(label=\"spring\", renderers=[p.circle(0,0,color='green')]),\n",
    "    LegendItem(label=\"summer\", renderers=[p.circle(0,0,color='red')]),\n",
    "    LegendItem(label=\"autumn\", renderers=[p.circle(0,0,color='yellow')]),\n",
    "    LegendItem(label=\"winter\", renderers=[p.circle(0,0,color='blue')]),\n",
    "    LegendItem(label='fit χ²/Nᵈᶠ = '+str(round(out.redchi,1)), renderers=[r_linear]),\n",
    "])\n",
    "p.add_layout(legend)\n",
    "\n",
    "p.xgrid.grid_line_color = None\n",
    "p.xaxis.major_label_orientation = math.pi/2\n",
    "p.legend\n",
    "#p.legend.orientation = \"horizontal\"\n",
    "p.legend.location = \"bottom_right\"\n",
    "\n",
    "# Create a HoverTool: hover\n",
    "hover = HoverTool(tooltips=None,mode='hline')\n",
    "\n",
    "# Add the hover tool to the figure p\n",
    "p.add_tools(hover)\n",
    "\n",
    "height = math.ceil(max(num_per_day) / 2.) * 2/6\n",
    "width = height*3302/496\n",
    "p.image_url(url=['nhsportsmouth.png'], x=0.2, y=y_max-0.1, w=width, h=height)\n",
    "\n",
    "output_notebook()"
   ]
  },
  {
   "cell_type": "code",
   "execution_count": null,
   "metadata": {},
   "outputs": [],
   "source": [
    "show(p)"
   ]
  },
  {
   "cell_type": "code",
   "execution_count": null,
   "metadata": {},
   "outputs": [],
   "source": []
  }
 ],
 "metadata": {
  "kernelspec": {
   "display_name": "Python 3",
   "language": "python",
   "name": "python3"
  },
  "language_info": {
   "codemirror_mode": {
    "name": "ipython",
    "version": 3
   },
   "file_extension": ".py",
   "mimetype": "text/x-python",
   "name": "python",
   "nbconvert_exporter": "python",
   "pygments_lexer": "ipython3",
   "version": "3.7.3"
  }
 },
 "nbformat": 4,
 "nbformat_minor": 2
}
