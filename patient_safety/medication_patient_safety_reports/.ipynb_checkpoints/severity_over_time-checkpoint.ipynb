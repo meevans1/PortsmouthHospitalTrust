{
 "cells": [
  {
   "cell_type": "code",
   "execution_count": null,
   "metadata": {},
   "outputs": [],
   "source": [
    "import pyodbc\n",
    "import pandas as pd\n",
    "import matplotlib.pyplot as plt\n",
    "import numpy as np"
   ]
  },
  {
   "cell_type": "code",
   "execution_count": null,
   "metadata": {},
   "outputs": [],
   "source": [
    "sql_conn = pyodbc.connect('DRIVER={SQL Server};'\n",
    "                            'SERVER=L_AAGname;'\n",
    "                            'DATABASE=database_name;'\n",
    "                            'Trusted_Connection=yes') \n",
    "query = \"set transaction isolation level read uncommitted select inc_dincident,inc_severity from DatixCRM.dbo.incidents_main where inc_type='PAT' and inc_category='MEDIC' and inc_organisation='QA'\"\n",
    "df = pd.read_sql(query, sql_conn)\n",
    "print(df)"
   ]
  },
  {
   "cell_type": "code",
   "execution_count": null,
   "metadata": {},
   "outputs": [],
   "source": [
    "df = df[df['inc_severity']!='']\n",
    "df"
   ]
  },
  {
   "cell_type": "code",
   "execution_count": null,
   "metadata": {},
   "outputs": [],
   "source": [
    "df = df[df['inc_dincident'] > '2016-03-31']\n",
    "df"
   ]
  },
  {
   "cell_type": "code",
   "execution_count": null,
   "metadata": {},
   "outputs": [],
   "source": [
    "df['month_year'] = df['inc_dincident'].map(lambda x: x.strftime('%Y-%m'))\n",
    "df"
   ]
  },
  {
   "cell_type": "code",
   "execution_count": null,
   "metadata": {},
   "outputs": [],
   "source": [
    "month_year_value_counts = df['month_year'].value_counts().sort_index()\n",
    "month_year_value_counts"
   ]
  },
  {
   "cell_type": "code",
   "execution_count": null,
   "metadata": {},
   "outputs": [],
   "source": [
    "plt.figure(figsize=(17,14))\n",
    "month_year_value_counts.plot.bar()\n",
    "plt.title('Medication Safety Learning Events reported by month')"
   ]
  },
  {
   "cell_type": "code",
   "execution_count": null,
   "metadata": {},
   "outputs": [],
   "source": [
    "df['inc_severity'] = pd.Categorical(df['inc_severity'], [\"NMISS\", \"NONE\", \"LOW\", \"MODRTE\", \"SEVERE\", \"DEATH\"])\n",
    "df = df.sort_values('inc_severity')\n",
    "severity_counts = df['inc_severity'].value_counts()[df['inc_severity'].unique()]\n",
    "severity_counts"
   ]
  },
  {
   "cell_type": "code",
   "execution_count": null,
   "metadata": {},
   "outputs": [],
   "source": [
    "cumulative_bottom = 0\n",
    "month_years = list(month_year_value_counts.index)\n",
    "bins = list(month_year_value_counts.index)\n",
    "bins.append('9999-12')\n",
    "color_dict = {'NMISS':'b','NONE':'g','LOW':'y','MODRTE':'orange','SEVERE':'r','DEATH':'k'}\n",
    "plt.figure(figsize=(17,14))\n",
    "for i,counts in severity_counts.items():\n",
    "    height_severity_total,_ = np.histogram(df[df['inc_severity']==i]['month_year'].values, bins=bins)\n",
    "    plt.bar(month_years, height_severity_total, bottom=cumulative_bottom, label=i, color=color_dict[i]);\n",
    "    cumulative_bottom += height_severity_total\n",
    "plt.xticks(rotation='vertical');\n",
    "plt.legend();\n",
    "plt.title('Medicine Safety Learning Events by reported month')\n",
    "plt.show()"
   ]
  },
  {
   "cell_type": "code",
   "execution_count": null,
   "metadata": {},
   "outputs": [],
   "source": [
    "def severity_over_time_plot():\n",
    "    severity_counts = df['inc_severity'].value_counts()[df['inc_severity'].unique()]\n",
    "    cumulative_bottom = 0\n",
    "    month_years = list(month_year_value_counts.index)\n",
    "    bins = list(month_year_value_counts.index)\n",
    "    bins.append('9999-12')\n",
    "    color_dict = {'NMISS':'b','NONE':'g','LOW':'y','MODRTE':'orange','SEVERE':'r','DEATH':'k'}\n",
    "    plt.figure(figsize=(17,14))\n",
    "    for i,counts in severity_counts.items():\n",
    "        height_severity_total,_ = np.histogram(df[df['inc_severity']==i]['month_year'].values, bins=bins)\n",
    "        plt.bar(month_years, height_severity_total, bottom=cumulative_bottom, label=i, color=color_dict[i]);\n",
    "        cumulative_bottom += height_severity_total\n",
    "    plt.xticks(rotation='vertical');\n",
    "    plt.legend()\n",
    "    plt.title('Medicine Safety Learning Events by reported month')\n",
    "    plt.show()\n",
    "severity_over_time_plot()"
   ]
  },
  {
   "cell_type": "code",
   "execution_count": null,
   "metadata": {},
   "outputs": [],
   "source": []
  }
 ],
 "metadata": {
  "kernelspec": {
   "display_name": "Python 3",
   "language": "python",
   "name": "python3"
  },
  "language_info": {
   "codemirror_mode": {
    "name": "ipython",
    "version": 3
   },
   "file_extension": ".py",
   "mimetype": "text/x-python",
   "name": "python",
   "nbconvert_exporter": "python",
   "pygments_lexer": "ipython3",
   "version": "3.7.3"
  }
 },
 "nbformat": 4,
 "nbformat_minor": 2
}
