{
 "cells": [
  {
   "cell_type": "code",
   "execution_count": null,
   "metadata": {},
   "outputs": [],
   "source": [
    "import pyodbc\n",
    "import pandas as pd\n",
    "import matplotlib.pyplot as plt\n",
    "import numpy as np\n",
    "from datetime import date\n",
    "from dateutil.relativedelta import relativedelta"
   ]
  },
  {
   "cell_type": "code",
   "execution_count": null,
   "metadata": {},
   "outputs": [],
   "source": [
    "sql_conn = pyodbc.connect('DRIVER={SQL Server};'\n",
    "                            'SERVER=L_AAGname;'\n",
    "                            'DATABASE=database_name;'\n",
    "                            'Trusted_Connection=yes') \n",
    "query = \"set transaction isolation level read uncommitted select inc_dincident,inc_severity from DatixCRM.dbo.incidents_main where inc_type='PAT' and inc_category='MEDIC' and inc_organisation='QA'\"\n",
    "df = pd.read_sql(query, sql_conn)\n",
    "print(df)"
   ]
  },
  {
   "cell_type": "code",
   "execution_count": null,
   "metadata": {},
   "outputs": [],
   "source": [
    "df = df[df['inc_severity']!='']\n",
    "df"
   ]
  },
  {
   "cell_type": "markdown",
   "metadata": {},
   "source": [
    "Change the start date here"
   ]
  },
  {
   "cell_type": "code",
   "execution_count": null,
   "metadata": {},
   "outputs": [],
   "source": [
    "start_date = date(2019,9,1)\n",
    "end_date = str(start_date + relativedelta(months=+3))\n",
    "start_date = str(start_date)\n",
    "df = df[df['inc_dincident'] >= start_date]\n",
    "df = df[df['inc_dincident'] < end_date]\n",
    "df"
   ]
  },
  {
   "cell_type": "code",
   "execution_count": null,
   "metadata": {},
   "outputs": [],
   "source": [
    "df['inc_severity'] = pd.Categorical(df['inc_severity'], [\"NMISS\", \"NONE\", \"LOW\", \"MODRTE\", \"SEVERE\", \"DEATH\"])\n",
    "df = df.sort_values('inc_severity')"
   ]
  },
  {
   "cell_type": "code",
   "execution_count": null,
   "metadata": {},
   "outputs": [],
   "source": [
    "def severity_pie(dataframe):\n",
    "    severity_counts = dataframe['inc_severity'].value_counts()[dataframe['inc_severity'].unique()]\n",
    "    colors = ['b','g','y','orange','r','k']\n",
    "    wedges = plt.pie(severity_counts, colors=colors, startangle=90, counterclock=False);\n",
    "    plt.legend(list(severity_counts.index), loc=(1,0.5))\n",
    "    plt.title('Severity of SLE\\n'+str(dataframe['inc_dincident'].min().strftime('%b'))+' '+str(dataframe['inc_dincident'].min().strftime('%y'))+' - '+str(dataframe['inc_dincident'].max().strftime('%b'))+' '+str(dataframe['inc_dincident'].max().strftime('%y')))\n",
    "    plt.show()\n",
    "severity_pie(df)"
   ]
  },
  {
   "cell_type": "code",
   "execution_count": null,
   "metadata": {},
   "outputs": [],
   "source": []
  }
 ],
 "metadata": {
  "kernelspec": {
   "display_name": "Python 3",
   "language": "python",
   "name": "python3"
  },
  "language_info": {
   "codemirror_mode": {
    "name": "ipython",
    "version": 3
   },
   "file_extension": ".py",
   "mimetype": "text/x-python",
   "name": "python",
   "nbconvert_exporter": "python",
   "pygments_lexer": "ipython3",
   "version": "3.7.3"
  }
 },
 "nbformat": 4,
 "nbformat_minor": 2
}
