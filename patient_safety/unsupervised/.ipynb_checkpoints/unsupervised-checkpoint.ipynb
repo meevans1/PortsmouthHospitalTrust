{
 "cells": [
  {
   "cell_type": "code",
   "execution_count": null,
   "metadata": {},
   "outputs": [],
   "source": [
    "import pandas as pd\n",
    "import numpy as np\n",
    "import matplotlib.pyplot as plt\n",
    "import matplotlib.image as mpimg\n",
    "import pyodbc\n",
    "\n",
    "# Perform the necessary imports\n",
    "from sklearn.pipeline import make_pipeline\n",
    "from sklearn.preprocessing import StandardScaler\n",
    "from sklearn.cluster import KMeans\n",
    "\n",
    "from scipy.cluster.hierarchy import linkage, dendrogram"
   ]
  },
  {
   "cell_type": "code",
   "execution_count": null,
   "metadata": {},
   "outputs": [],
   "source": [
    "sql_conn = pyodbc.connect('DRIVER={SQL Server};'\n",
    "                            'SERVER=L_AAGname;'\n",
    "                            'DATABASE=database_name;'\n",
    "                            'Trusted_Connection=yes') \n",
    "query = \"set transaction isolation level read uncommitted select inc_dincident,inc_time,inc_dreported,inc_submittedtime,inc_organisation,inc_locactual,inc_unit,inc_specialty,inc_loctype,inc_result,inc_severity,show_other_contacts,show_employee,show_witness,show_document,inc_reportedby,inc_notes from DatixCRM.dbo.incidents_main where inc_type='PAT' and inc_category='MEDIC'\"\n",
    "df = pd.read_sql(query, sql_conn)\n",
    "df.head()"
   ]
  },
  {
   "cell_type": "code",
   "execution_count": null,
   "metadata": {},
   "outputs": [],
   "source": [
    "df['division'] = df['inc_unit'].str[:3]\n",
    "df['care group'] = df['inc_unit'].str[3:6]\n",
    "df = df.drop('inc_unit',axis=1)"
   ]
  },
  {
   "cell_type": "code",
   "execution_count": null,
   "metadata": {},
   "outputs": [],
   "source": [
    "df.columns = [column.replace('inc_organisation','site') for column in df.columns]\n",
    "df.columns = [column.replace('inc_locactual','ward/dept/unit') for column in df.columns]\n",
    "df.columns = [column.replace('inc_unit','division & care group') for column in df.columns]\n",
    "df.columns = [column.replace('inc_specialty','specialty') for column in df.columns]\n",
    "df.columns = [column.replace('inc_loctype','location type') for column in df.columns]\n",
    "df.columns = [column.replace('inc_result','result') for column in df.columns]\n",
    "df.columns = [column.replace('inc_severity','severity') for column in df.columns]\n",
    "df.columns = [column.replace('inc_reportedby','reported by') for column in df.columns]\n",
    "df.columns = [column.replace('show_other_contacts','other patients involved?') for column in df.columns]\n",
    "df.columns = [column.replace('show_employee','other employees involved?') for column in df.columns]\n",
    "df.columns = [column.replace('show_witness','any witnesses?') for column in df.columns]\n",
    "df.columns = [column.replace('show_document','any documents attached?') for column in df.columns]\n",
    "df.head()"
   ]
  },
  {
   "cell_type": "code",
   "execution_count": null,
   "metadata": {},
   "outputs": [],
   "source": [
    "df_category = df.select_dtypes('object')\n",
    "df_category = df.drop(['inc_notes'],axis=1)\n",
    "print(df_category.columns)"
   ]
  },
  {
   "cell_type": "code",
   "execution_count": null,
   "metadata": {},
   "outputs": [],
   "source": [
    "df['inc_time'] = df['inc_time'].str.replace(':','')\n",
    "df['inc_submittedtime'] = df['inc_submittedtime'].str.replace(':','')"
   ]
  },
  {
   "cell_type": "code",
   "execution_count": null,
   "metadata": {},
   "outputs": [],
   "source": [
    "df['inc_year'] = df.inc_dincident.dt.year\n",
    "df['inc_month'] = df.inc_dincident.dt.month\n",
    "df['inc_day'] = df.inc_dincident.dt.day\n",
    "df['inc_week'] = df.inc_dincident.dt.week\n",
    "df['inc_weekday'] = df.inc_dincident.dt.weekday\n",
    "df['inc_quarter'] = df.inc_dincident.dt.quarter\n",
    "df['inc_hour'] = df['inc_time'].str[:2]\n",
    "df['inc_minute'] = df['inc_time'].str[2:4]\n",
    "df['inc_time_datetime'] = pd.to_datetime(df['inc_time'], format='%H%M')\n",
    "df['inc_time_timedelta'] = pd.to_timedelta(df['inc_time_datetime']) + pd.Timedelta(days=25567)\n",
    "df['inc_datetime'] = df['inc_dincident'] + df['inc_time_timedelta']\n",
    "df['inc_date_delta'] = (df['inc_datetime'] - df['inc_datetime'].min())  / np.timedelta64(1,'D')\n",
    "df['reported_year'] = df.inc_dreported.dt.year\n",
    "df['reported_month'] = df.inc_dreported.dt.month\n",
    "df['reported_day'] = df.inc_dreported.dt.day\n",
    "df['reported_week'] = df.inc_dreported.dt.week\n",
    "df['reported_weekday'] = df.inc_dreported.dt.weekday\n",
    "df['reported_quarter'] = df.inc_dincident.dt.quarter\n",
    "df['reported_hour'] = df['inc_submittedtime'].str[:2]\n",
    "df['reported_minute'] = df['inc_submittedtime'].str[2:4]\n",
    "df['reported_time_datetime'] = pd.to_datetime(df['inc_submittedtime'], format='%H%M')\n",
    "df['reported_time_timedelta'] = pd.to_timedelta(df['reported_time_datetime']) + pd.Timedelta(days=25567)\n",
    "df['reported_datetime'] = df['inc_dreported'] + df['reported_time_timedelta']\n",
    "df['reported_date_delta'] = (df['reported_datetime'] - df['reported_datetime'].min())  / np.timedelta64(1,'D')\n",
    "df['diff'] = df['reported_datetime'] - df['inc_datetime']\n",
    "df['reported-incident'] = df['diff'] / np.timedelta64(1, 'D')\n",
    "df = df.astype({'inc_hour':'int'})\n",
    "df = df.astype({'inc_minute':'int'})\n",
    "df = df.astype({'reported_hour':'int'})\n",
    "df = df.astype({'reported_minute':'int'})\n",
    "df = df.drop(['inc_dincident','inc_time','inc_dreported','inc_submittedtime','inc_time_datetime','inc_time_timedelta','inc_datetime','reported_time_datetime','reported_time_timedelta','reported_datetime','diff'],axis=1)\n",
    "df.head()"
   ]
  },
  {
   "cell_type": "code",
   "execution_count": null,
   "metadata": {},
   "outputs": [],
   "source": [
    "result_classes = [str(i) for i in df['result'].value_counts().index]\n",
    "result_mapping = {'NMISS':0,'NOHARM':1,'HARM':2}\n",
    "df_replaced = df.replace({'result': result_mapping})\n",
    "\n",
    "severity_classes = [str(i) for i in df['severity'].value_counts().index]\n",
    "severity_mapping = {'NMISS':0,'NONE':1,'LOW':2,'MODRTE':3,'SEVERE':4,'':None}\n",
    "df_replaced = df_replaced.replace({'severity': severity_mapping})\n",
    "\n",
    "binary_mapping = {'N':0,'Y':1}\n",
    "df_replaced = df_replaced.replace({'other patients involved?': binary_mapping})\n",
    "df_replaced = df_replaced.replace({'other employees involved?': binary_mapping})\n",
    "df_replaced = df_replaced.replace({'any witnesses?': binary_mapping})\n",
    "df_replaced = df_replaced.replace({'any documents attached?': binary_mapping})\n",
    "df_replaced.head()"
   ]
  },
  {
   "cell_type": "code",
   "execution_count": null,
   "metadata": {},
   "outputs": [],
   "source": [
    "category_columns = list(df_replaced.select_dtypes('object'))\n",
    "category_columns.remove('inc_notes')\n",
    "num_columns = list(df_replaced.select_dtypes(exclude='object').columns.values)\n",
    "int_columns = list(df_replaced.select_dtypes(['int64','int32']).columns.values)\n",
    "float_columns = list(df_replaced.select_dtypes('float').columns.values)\n",
    "for xi, column_x in enumerate(float_columns):\n",
    "    for yi, column_y in enumerate(float_columns):\n",
    "        if column_x!=column_y and yi>xi:\n",
    "            df_dropped = df_replaced.dropna(subset=[column_x,column_y])\n",
    "            xs = df_dropped[column_x]\n",
    "            ys = df_dropped[column_y]\n",
    "            plt.figure()\n",
    "            plt.scatter(xs,ys);\n",
    "            plt.xlabel(str(column_x))\n",
    "            plt.ylabel(str(column_y))\n",
    "#for xi, column_x in enumerate(int_columns):\n",
    "#    df_dropped = df_replaced.dropna(subset=[column_x,'reported-incident'])\n",
    "#    xs = df_dropped[column_x]\n",
    "#    ys = df_dropped['reported-incident']\n",
    "#    plt.figure()\n",
    "#    plt.scatter(xs,ys);\n",
    "#    plt.xlabel(str(column_x))\n",
    "#    plt.ylabel('reported-incident')\n",
    "#for xi, column_x in enumerate(num_columns):\n",
    "#    for yi, column_y in enumerate(num_columns):\n",
    "#        if column_x!=column_y and yi>xi:\n",
    "#            df_dropped = df_replaced.dropna(subset=[column_x,column_y])\n",
    "#            xs = df_dropped[column_x]\n",
    "#            ys = df_dropped[column_y]\n",
    "#            plt.figure()\n",
    "#            plt.scatter(xs,ys);\n",
    "#            plt.xlabel(str(column_x))\n",
    "#            plt.ylabel(str(column_y))"
   ]
  },
  {
   "cell_type": "code",
   "execution_count": null,
   "metadata": {},
   "outputs": [],
   "source": [
    "# Create scaler: scaler\n",
    "scaler = StandardScaler()\n",
    "df_float = df_replaced.select_dtypes('float')\n",
    "df_float = df_float.drop(['other patients involved?','severity'],axis=1)\n",
    "scaler.fit(df_float)\n",
    "\n",
    "samples_scaled = scaler.transform(df_float)\n",
    "print(samples_scaled)"
   ]
  },
  {
   "cell_type": "code",
   "execution_count": null,
   "metadata": {},
   "outputs": [],
   "source": [
    "for xi, column_x in enumerate(df_float.columns.values):\n",
    "    for yi, column_y in enumerate(df_float.columns.values):\n",
    "        if column_x!=column_y and yi>xi:\n",
    "            df_dropped = df_replaced.dropna(subset=[column_x,column_y])\n",
    "            xs = samples_scaled[:,0]\n",
    "            ys = samples_scaled[:,1]\n",
    "            plt.figure()\n",
    "            plt.scatter(xs,ys);\n",
    "            plt.xlabel(str(column_x))\n",
    "            plt.ylabel(str(column_y))"
   ]
  },
  {
   "cell_type": "code",
   "execution_count": null,
   "metadata": {},
   "outputs": [],
   "source": [
    "for column in df_category.columns:\n",
    "    counts = df_category[column].value_counts()\n",
    "\n",
    "    # Calculate the linkage: mergings\n",
    "    mergings = linkage(np.reshape(counts.values, (len(counts.values),1)),method='complete')\n",
    "\n",
    "    # Plot the dendrogram, using varieties as labels\n",
    "    plt.figure()\n",
    "    dendrogram(mergings,\n",
    "               labels=list(counts.index),\n",
    "               leaf_rotation=90,\n",
    "               leaf_font_size=6,\n",
    "    );"
   ]
  },
  {
   "cell_type": "code",
   "execution_count": null,
   "metadata": {},
   "outputs": [],
   "source": []
  }
 ],
 "metadata": {
  "kernelspec": {
   "display_name": "Python 3",
   "language": "python",
   "name": "python3"
  },
  "language_info": {
   "codemirror_mode": {
    "name": "ipython",
    "version": 3
   },
   "file_extension": ".py",
   "mimetype": "text/x-python",
   "name": "python",
   "nbconvert_exporter": "python",
   "pygments_lexer": "ipython3",
   "version": "3.7.3"
  }
 },
 "nbformat": 4,
 "nbformat_minor": 2
}
