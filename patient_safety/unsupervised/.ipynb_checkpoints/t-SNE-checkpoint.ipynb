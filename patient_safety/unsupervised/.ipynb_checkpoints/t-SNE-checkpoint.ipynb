{
 "cells": [
  {
   "cell_type": "code",
   "execution_count": null,
   "metadata": {},
   "outputs": [],
   "source": [
    "import pandas as pd\n",
    "import numpy as np\n",
    "import matplotlib.pyplot as plt\n",
    "import matplotlib.image as mpimg\n",
    "import pyodbc\n",
    "\n",
    "# Import TSNE\n",
    "from sklearn.manifold import TSNE"
   ]
  },
  {
   "cell_type": "code",
   "execution_count": null,
   "metadata": {},
   "outputs": [],
   "source": [
    "sql_conn = pyodbc.connect('DRIVER={SQL Server};'\n",
    "                            'SERVER=L_AAGname;'\n",
    "                            'DATABASE=database_name;'\n",
    "                            'Trusted_Connection=yes') \n",
    "query = \"set transaction isolation level read uncommitted select inc_dincident,inc_time,inc_dreported,inc_submittedtime,inc_organisation,inc_locactual,inc_unit,inc_specialty,inc_loctype,inc_result,inc_severity,show_other_contacts,show_employee,show_witness,show_document,inc_reportedby,inc_notes from DatixCRM.dbo.incidents_main where inc_type='PAT' and inc_category='MEDIC'\"\n",
    "df = pd.read_sql(query, sql_conn)\n",
    "df.head()"
   ]
  },
  {
   "cell_type": "code",
   "execution_count": null,
   "metadata": {},
   "outputs": [],
   "source": [
    "df['division'] = df['inc_unit'].str[:3]\n",
    "df['care group'] = df['inc_unit'].str[3:6]\n",
    "df = df.drop('inc_unit',axis=1)"
   ]
  },
  {
   "cell_type": "code",
   "execution_count": null,
   "metadata": {},
   "outputs": [],
   "source": [
    "df.columns = [column.replace('inc_organisation','site') for column in df.columns]\n",
    "df.columns = [column.replace('inc_locactual','ward/dept/unit') for column in df.columns]\n",
    "df.columns = [column.replace('inc_unit','division & care group') for column in df.columns]\n",
    "df.columns = [column.replace('inc_specialty','specialty') for column in df.columns]\n",
    "df.columns = [column.replace('inc_loctype','location type') for column in df.columns]\n",
    "df.columns = [column.replace('inc_result','result') for column in df.columns]\n",
    "df.columns = [column.replace('inc_severity','severity') for column in df.columns]\n",
    "df.columns = [column.replace('inc_reportedby','reported by') for column in df.columns]\n",
    "df.columns = [column.replace('show_other_contacts','other patients involved?') for column in df.columns]\n",
    "df.columns = [column.replace('show_employee','other employees involved?') for column in df.columns]\n",
    "df.columns = [column.replace('show_witness','any witnesses?') for column in df.columns]\n",
    "df.columns = [column.replace('show_document','any documents attached?') for column in df.columns]\n",
    "df.head()"
   ]
  },
  {
   "cell_type": "code",
   "execution_count": null,
   "metadata": {},
   "outputs": [],
   "source": [
    "df['inc_time'] = df['inc_time'].str.replace(':','')\n",
    "df['inc_submittedtime'] = df['inc_submittedtime'].str.replace(':','')"
   ]
  },
  {
   "cell_type": "code",
   "execution_count": null,
   "metadata": {},
   "outputs": [],
   "source": [
    "df['inc_year'] = df.inc_dincident.dt.year\n",
    "df['inc_month'] = df.inc_dincident.dt.month\n",
    "df['inc_day'] = df.inc_dincident.dt.day\n",
    "df['inc_week'] = df.inc_dincident.dt.week\n",
    "df['inc_weekday'] = df.inc_dincident.dt.weekday\n",
    "df['inc_quarter'] = df.inc_dincident.dt.quarter\n",
    "df['inc_hour'] = df['inc_time'].str[:2]\n",
    "df['inc_minute'] = df['inc_time'].str[2:4]\n",
    "df['inc_time_datetime'] = pd.to_datetime(df['inc_time'], format='%H%M')\n",
    "df['inc_time_timedelta'] = pd.to_timedelta(df['inc_time_datetime']) + pd.Timedelta(days=25567)\n",
    "df['inc_datetime'] = df['inc_dincident'] + df['inc_time_timedelta']\n",
    "df['inc_date_delta'] = (df['inc_datetime'] - df['inc_datetime'].min())  / np.timedelta64(1,'D')\n",
    "df['reported_year'] = df.inc_dreported.dt.year\n",
    "df['reported_month'] = df.inc_dreported.dt.month\n",
    "df['reported_day'] = df.inc_dreported.dt.day\n",
    "df['reported_week'] = df.inc_dreported.dt.week\n",
    "df['reported_weekday'] = df.inc_dreported.dt.weekday\n",
    "df['reported_quarter'] = df.inc_dincident.dt.quarter\n",
    "df['reported_hour'] = df['inc_submittedtime'].str[:2]\n",
    "df['reported_minute'] = df['inc_submittedtime'].str[2:4]\n",
    "df['reported_time_datetime'] = pd.to_datetime(df['inc_submittedtime'], format='%H%M')\n",
    "df['reported_time_timedelta'] = pd.to_timedelta(df['reported_time_datetime']) + pd.Timedelta(days=25567)\n",
    "df['reported_datetime'] = df['inc_dreported'] + df['reported_time_timedelta']\n",
    "df['reported_date_delta'] = (df['reported_datetime'] - df['reported_datetime'].min())  / np.timedelta64(1,'D')\n",
    "df['diff'] = df['reported_datetime'] - df['inc_datetime']\n",
    "df['reported-incident'] = df['diff'] / np.timedelta64(1, 'D')\n",
    "df = df.astype({'inc_hour':'int'})\n",
    "df = df.astype({'inc_minute':'int'})\n",
    "df = df.astype({'reported_hour':'int'})\n",
    "df = df.astype({'reported_minute':'int'})\n",
    "df = df.drop(['inc_dincident','inc_time','inc_dreported','inc_submittedtime','inc_time_datetime','inc_time_timedelta','inc_datetime','reported_time_datetime','reported_time_timedelta','reported_datetime','diff'],axis=1)\n",
    "print(df.columns)\n",
    "df = df.drop(['inc_year', 'inc_month', 'inc_day',\n",
    "       'inc_week', 'inc_quarter', 'inc_minute',\n",
    "       'reported_year', 'reported_month', 'reported_day',\n",
    "       'reported_week', 'reported_weekday', 'reported_quarter',\n",
    "       'reported_hour', 'reported_minute', 'reported_date_delta',\n",
    "       'reported-incident'],axis=1)\n",
    "df.head()"
   ]
  },
  {
   "cell_type": "code",
   "execution_count": null,
   "metadata": {},
   "outputs": [],
   "source": [
    "result_classes = [str(i) for i in df['result'].value_counts().index]\n",
    "result_mapping = {'NMISS':0,'NOHARM':1,'HARM':2}\n",
    "df_replaced = df.replace({'result': result_mapping})\n",
    "\n",
    "severity_classes = [str(i) for i in df['severity'].value_counts().index]\n",
    "severity_mapping = {'NMISS':0,'NONE':1,'LOW':2,'MODRTE':3,'SEVERE':4,'':None}\n",
    "df_replaced = df_replaced.replace({'severity': severity_mapping})\n",
    "\n",
    "binary_mapping = {'N':0,'Y':1}\n",
    "df_replaced = df_replaced.replace({'other patients involved?': binary_mapping})\n",
    "df_replaced = df_replaced.replace({'other employees involved?': binary_mapping})\n",
    "df_replaced = df_replaced.replace({'any witnesses?': binary_mapping})\n",
    "df_replaced = df_replaced.replace({'any documents attached?': binary_mapping})\n",
    "df_replaced.head()"
   ]
  },
  {
   "cell_type": "code",
   "execution_count": null,
   "metadata": {},
   "outputs": [],
   "source": [
    "df_dropped = df_replaced.dropna()\n",
    "df_dropped.head()"
   ]
  },
  {
   "cell_type": "code",
   "execution_count": null,
   "metadata": {},
   "outputs": [],
   "source": [
    "df_num = df_dropped.select_dtypes(np.number)\n",
    "print(df_num.columns)\n",
    "df_num.head()"
   ]
  },
  {
   "cell_type": "code",
   "execution_count": null,
   "metadata": {},
   "outputs": [],
   "source": [
    "# Create a TSNE instance: model\n",
    "model = TSNE(learning_rate=200)\n",
    "\n",
    "# Apply fit_transform to samples: tsne_features\n",
    "tsne_features = model.fit_transform(df_num)"
   ]
  },
  {
   "cell_type": "code",
   "execution_count": null,
   "metadata": {},
   "outputs": [],
   "source": [
    "# Select the 0th feature: xs\n",
    "xs = tsne_features[:,0]\n",
    "\n",
    "# Select the 1st feature: ys\n",
    "ys = tsne_features[:,1]"
   ]
  },
  {
   "cell_type": "code",
   "execution_count": null,
   "metadata": {},
   "outputs": [],
   "source": [
    "category_columns = list(df_replaced.select_dtypes('object'))\n",
    "category_columns.remove('inc_notes')\n",
    "for column in category_columns:\n",
    "    classes = [str(i) for i in df_dropped[column].value_counts().index]\n",
    "    mapping = dict((el,i) for i,el in enumerate(classes))\n",
    "    df_mapped = df_dropped.replace({column: mapping})\n",
    "    \n",
    "    fig, ax = plt.subplots()\n",
    "    \n",
    "    # Scatter plot, coloring by column\n",
    "    scatter = ax.scatter(xs,ys,c=df_mapped[column].values,label=classes)\n",
    "\n",
    "    # produce a legend with a cross section of sizes from the scatter\n",
    "    handles, labels = scatter.legend_elements(prop=\"colors\")\n",
    "    legend2 = ax.legend(handles, mapping.keys(), loc=(1.04,0))"
   ]
  },
  {
   "cell_type": "code",
   "execution_count": null,
   "metadata": {},
   "outputs": [],
   "source": []
  }
 ],
 "metadata": {
  "kernelspec": {
   "display_name": "Python 3",
   "language": "python",
   "name": "python3"
  },
  "language_info": {
   "codemirror_mode": {
    "name": "ipython",
    "version": 3
   },
   "file_extension": ".py",
   "mimetype": "text/x-python",
   "name": "python",
   "nbconvert_exporter": "python",
   "pygments_lexer": "ipython3",
   "version": "3.7.3"
  }
 },
 "nbformat": 4,
 "nbformat_minor": 2
}
