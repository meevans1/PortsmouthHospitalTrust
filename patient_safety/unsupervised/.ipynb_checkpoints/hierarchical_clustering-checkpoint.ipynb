{
 "cells": [
  {
   "cell_type": "code",
   "execution_count": null,
   "metadata": {},
   "outputs": [],
   "source": [
    "import pandas as pd\n",
    "import numpy as np\n",
    "import matplotlib.pyplot as plt\n",
    "import matplotlib.image as mpimg\n",
    "import pyodbc\n",
    "import datetime as dt\n",
    "\n",
    "from scipy.cluster.hierarchy import linkage, dendrogram"
   ]
  },
  {
   "cell_type": "code",
   "execution_count": null,
   "metadata": {},
   "outputs": [],
   "source": [
    "sql_conn = pyodbc.connect('DRIVER={SQL Server};'\n",
    "                            'SERVER=L_AAGname;'\n",
    "                            'DATABASE=database_name;'\n",
    "                            'Trusted_Connection=yes') \n",
    "query = \"set transaction isolation level read uncommitted select inc_dincident,inc_time,inc_dreported,inc_submittedtime,inc_organisation,inc_locactual,inc_unit,inc_specialty,inc_loctype,inc_result,inc_severity,show_other_contacts,show_employee,show_witness,show_document,inc_reportedby,inc_notes from DatixCRM.dbo.incidents_main where inc_type='PAT' and inc_category='MEDIC'\"\n",
    "df = pd.read_sql(query, sql_conn)\n",
    "df.head()"
   ]
  },
  {
   "cell_type": "code",
   "execution_count": null,
   "metadata": {},
   "outputs": [],
   "source": [
    "df['division'] = df['inc_unit'].str[:3]\n",
    "df['care group'] = df['inc_unit'].str[3:6]\n",
    "df = df.drop('inc_unit',axis=1)"
   ]
  },
  {
   "cell_type": "code",
   "execution_count": null,
   "metadata": {},
   "outputs": [],
   "source": [
    "df.columns = [column.replace('inc_organisation','site') for column in df.columns]\n",
    "df.columns = [column.replace('inc_locactual','ward/dept/unit') for column in df.columns]\n",
    "df.columns = [column.replace('inc_unit','division & care group') for column in df.columns]\n",
    "df.columns = [column.replace('inc_specialty','specialty') for column in df.columns]\n",
    "df.columns = [column.replace('inc_loctype','location type') for column in df.columns]\n",
    "df.columns = [column.replace('inc_result','result') for column in df.columns]\n",
    "df.columns = [column.replace('inc_severity','severity') for column in df.columns]\n",
    "df.columns = [column.replace('inc_reportedby','reported by') for column in df.columns]\n",
    "df.columns = [column.replace('show_other_contacts','other patients involved?') for column in df.columns]\n",
    "df.columns = [column.replace('show_employee','other employees involved?') for column in df.columns]\n",
    "df.columns = [column.replace('show_witness','any witnesses?') for column in df.columns]\n",
    "df.columns = [column.replace('show_document','any documents attached?') for column in df.columns]\n",
    "df.head()"
   ]
  },
  {
   "cell_type": "code",
   "execution_count": null,
   "metadata": {},
   "outputs": [],
   "source": [
    "df['inc_time'] = df['inc_time'].str.replace(':','')\n",
    "df['inc_submittedtime'] = df['inc_submittedtime'].str.replace(':','')"
   ]
  },
  {
   "cell_type": "code",
   "execution_count": null,
   "metadata": {},
   "outputs": [],
   "source": [
    "df['inc_year'] = df.inc_dincident.dt.year\n",
    "df['inc_month'] = df.inc_dincident.dt.month\n",
    "df['inc_day'] = df.inc_dincident.dt.day\n",
    "df['inc_week'] = df.inc_dincident.dt.week\n",
    "df['inc_weekday'] = df.inc_dincident.dt.weekday\n",
    "df['inc_quarter'] = df.inc_dincident.dt.quarter\n",
    "df['inc_hour'] = df['inc_time'].str[:2]\n",
    "df['inc_minute'] = df['inc_time'].str[2:4]\n",
    "df = df.astype({'inc_hour':'int'})\n",
    "df = df.astype({'inc_minute':'int'})\n",
    "df['inc_datetime'] = df.apply(lambda x: x.loc['inc_dincident'] + dt.timedelta(hours=x.loc['inc_hour'],minutes=x.loc['inc_minute']), axis=1)\n",
    "df['reported_year'] = df.inc_dreported.dt.year\n",
    "df['reported_month'] = df.inc_dreported.dt.month\n",
    "df['reported_day'] = df.inc_dreported.dt.day\n",
    "df['reported_week'] = df.inc_dreported.dt.week\n",
    "df['reported_weekday'] = df.inc_dreported.dt.weekday\n",
    "df['reported_quarter'] = df.inc_dreported.dt.quarter\n",
    "df['reported_hour'] = df['inc_submittedtime'].str[:2]\n",
    "df['reported_minute'] = df['inc_submittedtime'].str[2:4]\n",
    "df = df.astype({'reported_hour':'int'})\n",
    "df = df.astype({'reported_minute':'int'})\n",
    "df['reported_datetime'] = df.apply(lambda x: x.loc['inc_dreported'] + dt.timedelta(hours=x.loc['reported_hour'],minutes=x.loc['reported_minute']), axis=1)\n",
    "df['diff'] = df['reported_datetime'] - df['inc_datetime']\n",
    "df['reported-incident'] = df['diff'] / np.timedelta64(1, 'D')\n",
    "df.head()\n",
    "df = df.drop(['inc_dincident','inc_time','inc_dreported','inc_submittedtime','inc_datetime','reported_datetime','diff'],axis=1)"
   ]
  },
  {
   "cell_type": "code",
   "execution_count": null,
   "metadata": {},
   "outputs": [],
   "source": [
    "df_category = df[['site','ward/dept/unit','specialty','location type','result','severity','reported by','division','care group']]"
   ]
  },
  {
   "cell_type": "code",
   "execution_count": null,
   "metadata": {},
   "outputs": [],
   "source": [
    "for column in df_category.columns:\n",
    "    df_dropped = df_category.dropna(subset=[column])\n",
    "    df_dropped = df_dropped[df_dropped[column]!='']\n",
    "    counts = df_dropped[column].value_counts()\n",
    "\n",
    "    # Calculate the linkage: mergings\n",
    "    mergings = linkage(np.reshape(counts.values, (len(counts.values),1)),method='complete')\n",
    "\n",
    "    # Plot the dendrogram, using varieties as labels\n",
    "    plt.figure(figsize=(17,4))\n",
    "    dendrogram(mergings,\n",
    "               labels=list(counts.index),\n",
    "               leaf_rotation=90,\n",
    "#               leaf_font_size=7,\n",
    "    );\n",
    "    plt.xlabel(str(column))"
   ]
  },
  {
   "cell_type": "code",
   "execution_count": null,
   "metadata": {},
   "outputs": [],
   "source": []
  }
 ],
 "metadata": {
  "kernelspec": {
   "display_name": "Python 3",
   "language": "python",
   "name": "python3"
  },
  "language_info": {
   "codemirror_mode": {
    "name": "ipython",
    "version": 3
   },
   "file_extension": ".py",
   "mimetype": "text/x-python",
   "name": "python",
   "nbconvert_exporter": "python",
   "pygments_lexer": "ipython3",
   "version": "3.7.3"
  }
 },
 "nbformat": 4,
 "nbformat_minor": 2
}
