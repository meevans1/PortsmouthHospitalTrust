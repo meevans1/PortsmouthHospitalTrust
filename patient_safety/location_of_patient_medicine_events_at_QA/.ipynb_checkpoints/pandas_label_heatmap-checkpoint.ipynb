{
 "cells": [
  {
   "cell_type": "code",
   "execution_count": null,
   "metadata": {},
   "outputs": [],
   "source": [
    "import pandas as pd\n",
    "import numpy as np\n",
    "import matplotlib.pyplot as plt\n",
    "import matplotlib.image as mpimg\n",
    "from PIL import Image\n",
    "import pytesseract\n",
    "import pyodbc\n",
    "import re"
   ]
  },
  {
   "cell_type": "code",
   "execution_count": null,
   "metadata": {},
   "outputs": [],
   "source": [
    "sql_conn = pyodbc.connect('DRIVER={SQL Server};'\n",
    "                            'SERVER=L_AAGname;'\n",
    "                            'DATABASE=database_name;'\n",
    "                            'Trusted_Connection=yes') \n",
    "query = \"set transaction isolation level read uncommitted select b.description from DatixCRM.dbo.code_locactual b join DatixCRM.dbo.incidents_main a on a.inc_locactual = b.code where a.inc_type='PAT' and a.inc_category='MEDIC' and a.inc_organisation='QA' and b.cod_parent2='QA'\"\n",
    "df = pd.read_sql(query, sql_conn)\n",
    "df.columns = ['location']\n",
    "df.head()"
   ]
  },
  {
   "cell_type": "code",
   "execution_count": null,
   "metadata": {},
   "outputs": [],
   "source": [
    "def find_ward(location):\n",
    "    ward = re.findall(r\"[A-G][0-9]\",location)\n",
    "    if len(ward)>0: return ward[0]\n",
    "    else: return location"
   ]
  },
  {
   "cell_type": "code",
   "execution_count": null,
   "metadata": {},
   "outputs": [],
   "source": [
    "def find_ward1to4(location):\n",
    "    ward1to4 = re.findall(r\"[D-G][1-4]\",location)\n",
    "    if len(ward1to4)>0: return ward1to4[0][0]+'3'\n",
    "    else: return location"
   ]
  },
  {
   "cell_type": "code",
   "execution_count": null,
   "metadata": {},
   "outputs": [],
   "source": [
    "def find_wardBCF5to7(location):\n",
    "    ward5to7 = re.findall(r\"(B|C|F)[5-7]\",location)\n",
    "    if len(ward5to7)>0: return ward5to7[0][0]+'6'\n",
    "    else: return location"
   ]
  },
  {
   "cell_type": "code",
   "execution_count": null,
   "metadata": {},
   "outputs": [],
   "source": [
    "def find_wardEG6to8(location):\n",
    "    ward6to8 = re.findall(r\"(E|G)[6-8]\",location)\n",
    "    if len(ward6to8)>0: return ward6to8[0][0]+'7'\n",
    "    else: return location"
   ]
  },
  {
   "cell_type": "code",
   "execution_count": null,
   "metadata": {},
   "outputs": [],
   "source": [
    "def find_acronym(location):\n",
    "    acronym = re.findall(r\"\\(([A-Z]+)\\)\",location)\n",
    "    if len(acronym)>0: return acronym[0]\n",
    "    else: return location"
   ]
  },
  {
   "cell_type": "code",
   "execution_count": null,
   "metadata": {},
   "outputs": [],
   "source": [
    "def find_haematology_or_oncology(location):\n",
    "    if 'Haematology' in location or 'Oncology' in location: return 'Haematology & Oncology Centre'\n",
    "    else: return location"
   ]
  },
  {
   "cell_type": "code",
   "execution_count": null,
   "metadata": {},
   "outputs": [],
   "source": [
    "def find_ED(location):\n",
    "    if 'Emergency Department' in location: return 'Emergency Department'\n",
    "    else: return location"
   ]
  },
  {
   "cell_type": "code",
   "execution_count": null,
   "metadata": {},
   "outputs": [],
   "source": [
    "def find_Ophthalmology(location):\n",
    "    if 'Ophthalmology' in location: return 'Eye'\n",
    "    else: return location"
   ]
  },
  {
   "cell_type": "code",
   "execution_count": null,
   "metadata": {},
   "outputs": [],
   "source": [
    "def find_surgical(location):\n",
    "    if 'Surgical' in location: return 'E3'\n",
    "    else: return location"
   ]
  },
  {
   "cell_type": "code",
   "execution_count": null,
   "metadata": {},
   "outputs": [],
   "source": [
    "df['location'] = np.vectorize(find_ward)(df['location'])\n",
    "df['location'] = np.vectorize(find_ward1to4)(df['location'])\n",
    "df['location'] = np.vectorize(find_wardBCF5to7)(df['location'])\n",
    "df['location'] = np.vectorize(find_wardEG6to8)(df['location'])\n",
    "#df['location'] = np.vectorize(find_acronym)(df['location'])\n",
    "df['location'] = np.vectorize(find_haematology_or_oncology)(df['location'])\n",
    "df['location'] = np.vectorize(find_ED)(df['location'])\n",
    "df['location'] = np.vectorize(find_Ophthalmology)(df['location'])\n",
    "df['location'] = np.vectorize(find_surgical)(df['location'])"
   ]
  },
  {
   "cell_type": "code",
   "execution_count": null,
   "metadata": {},
   "outputs": [],
   "source": []
  },
  {
   "cell_type": "code",
   "execution_count": null,
   "metadata": {},
   "outputs": [],
   "source": [
    "df.loc[df['location'] == 'A7', 'location'] = 'Paediatric Unit'\n",
    "df.loc[df['location'] == 'A8', 'location'] = 'Paediatric Unit'\n",
    "df.loc[df['location'] == 'Administration Offices Renal & Transplant', 'location'] = 'Renal Unit'\n",
    "df.loc[df['location'] == 'Renal Day Unit  QA', 'location'] = 'Renal Unit'\n",
    "df.loc[df['location'] == 'Anti Coagulation Clinic QA', 'location'] = 'Haematology & Oncology Centre'\n",
    "df.loc[df['location'] == 'Cardiac Catheter Laboratory', 'location'] = 'Cardiology'\n",
    "df.loc[df['location'] == 'Cardiac Day Unit (CDU)', 'location'] = 'Cardiology'\n",
    "df.loc[df['location'] == 'Cardiology Outpatients QA', 'location'] = 'C Level Outpatients'\n",
    "df.loc[df['location'] == 'Childrens Assesment Unit (CAU)', 'location'] = 'Paediatric Unit'\n",
    "df.loc[df['location'] == 'Colorectal Outpatients QA', 'location'] = 'C Level Outpatients'\n",
    "df.loc[df['location'] == 'Diabetes and Endocrinology Centre QA', 'location'] = 'Diabetes and Endocrinology'\n",
    "df.loc[df['location'] == 'ENT Outpatients QA', 'location'] = 'Ear, Nose & Throat'\n",
    "df.loc[df['location'] == 'Early Pregnancy Assessment Unit', 'location'] = 'A5'\n",
    "df.loc[df['location'] == 'Endoscopy Unit D Level QA', 'location'] = 'Endoscopy Unit'\n",
    "df.loc[df['location'] == 'Eye Day Case Unit QA', 'location'] = 'Eye Unit'\n",
    "df.loc[df['location'] == 'Gastroenterology  Outpatients QA', 'location'] = 'D Level Outpatients'\n",
    "df.loc[df['location'] == 'Gynae Outpatients QA', 'location'] = 'Gynaecology Outpatients'\n",
    "df.loc[df['location'] == 'Haemodialysis Unit', 'location'] = 'Renal Haemodialysis'\n",
    "df.loc[df['location'] == 'Maxillofacial Outpatients QA', 'location'] = 'D Level Outpatients'\n",
    "df.loc[df['location'] == 'Ophthalmology Eye Emergency Department', 'location'] = 'Eye Unit'\n",
    "df.loc[df['location'] == 'Pathology Department', 'location'] = 'Pathology'\n",
    "df.loc[df['location'] == 'Peritoneal Dialysis', 'location'] = 'Renal Unit'\n",
    "df.loc[df['location'] == 'Radiotherapy  Dept within CHOC', 'location'] = 'F6'\n",
    "df.loc[df['location'] == 'Receipt and Delivery', 'location'] = 'Reception'\n",
    "df.loc[df['location'] == 'Reception (Atrium)', 'location'] = 'Reception'\n",
    "df['location'] = df['location'].str.replace(' Unit','')\n",
    "df.loc[df['location'] == 'Renal', 'location'] = 'Renal Unit'"
   ]
  },
  {
   "cell_type": "code",
   "execution_count": null,
   "metadata": {},
   "outputs": [],
   "source": [
    "df = df[df['location'] != \"Administration Offices Women and Children's\"]\n",
    "df = df[df['location'] != 'Anaesthetics Department'] \n",
    "df = df[df['location'] != 'Antenatal Clinic'] \n",
    "df = df[df['location'] != 'Diagnostic Imaging'] \n",
    "df = df[df['location'] != 'ICT  Centre QA'] \n",
    "df = df[~df['location'].str.contains('Maternity')] \n",
    "df = df[df['location'] != 'Observation Ward']\n",
    "df = df[df['location'] != 'Occupational Health']\n",
    "df = df[df['location'] != 'Orthopaedic Pre Operation Clinic QA']\n",
    "df = df[df['location'] != 'Pre-Operative Assessment (POA)']\n",
    "df = df[~df['location'].str.contains('QA@ Home ')] \n",
    "df = df[df['location'] != 'Research & Development Department']\n",
    "df = df[df['location'] != 'Respiratory Day']\n",
    "df = df[df['location'] != 'TIA Clinic']\n",
    "df = df[df['location'] != 'Theatres QA']\n",
    "df = df[df['location'] != 'Transplant and Retrieval  QA']"
   ]
  },
  {
   "cell_type": "code",
   "execution_count": null,
   "metadata": {},
   "outputs": [],
   "source": [
    "location_counts = df['location'].value_counts().sort_index(ascending=True)\n",
    "print(location_counts)"
   ]
  },
  {
   "cell_type": "code",
   "execution_count": null,
   "metadata": {},
   "outputs": [],
   "source": [
    "df_counts = location_counts.rename_axis('location').reset_index(name='events')\n",
    "print(df_counts)"
   ]
  },
  {
   "cell_type": "code",
   "execution_count": null,
   "metadata": {},
   "outputs": [],
   "source": [
    "df_counts['floor'] = df_counts['location'].str[0]\n",
    "df_counts.loc[df_counts['location'] == 'Acute Medical (AMU) (MAU)', 'floor'] = 'C'\n",
    "df_counts.loc[df_counts['location'] == 'Diabetes and Endocrinology', 'floor'] = 'C'\n",
    "df_counts.loc[df_counts['location'] == 'Discharge', 'floor'] = 'A'\n",
    "df_counts.loc[df_counts['location'] == 'Ear, Nose & Throat', 'floor'] = 'D'\n",
    "df_counts.loc[df_counts['location'] == 'Emergency Department', 'floor'] = 'C'\n",
    "df_counts.loc[df_counts['location'] == 'Endoscopy', 'floor'] = 'D'\n",
    "df_counts.loc[df_counts['location'] == 'Eye', 'floor'] = 'B'\n",
    "df_counts.loc[df_counts['location'] == 'Gynaecology Outpatients', 'floor'] = 'D'\n",
    "df_counts.loc[df_counts['location'] == 'Haematology & Oncology Centre', 'floor'] = 'B'\n",
    "df_counts.loc[df_counts['location'] == 'Medical Physics Department', 'floor'] = 'F'\n",
    "df_counts.loc[df_counts['location'] == 'Paediatric', 'floor'] = 'A'\n",
    "df_counts.loc[df_counts['location'] == 'Pathology', 'floor'] = 'E'\n",
    "df_counts.loc[df_counts['location'] == 'Pharmacy QA', 'floor'] = 'C'\n",
    "df_counts.loc[df_counts['location'] == 'Reception', 'floor'] = 'A'\n",
    "df_counts.loc[df_counts['location'] == 'Rheumatology Outpatients QA', 'floor'] = 'C'\n",
    "df_counts.loc[df_counts['location'] == 'Theatre Admissions Suite (TAS)', 'floor'] = 'E'"
   ]
  },
  {
   "cell_type": "code",
   "execution_count": null,
   "metadata": {},
   "outputs": [],
   "source": [
    "def find_renal(location,floor):\n",
    "    if 'Renal' in location: return 'G'\n",
    "    else: return floor"
   ]
  },
  {
   "cell_type": "code",
   "execution_count": null,
   "metadata": {},
   "outputs": [],
   "source": [
    "df_counts['floor'] = np.vectorize(find_renal)(df_counts['location'],df_counts['floor'])"
   ]
  },
  {
   "cell_type": "code",
   "execution_count": null,
   "metadata": {},
   "outputs": [],
   "source": [
    "df_counts['location'] = df_counts['location'].str.replace(' QA','')\n",
    "print(df_counts.sort_values(by=['floor']))"
   ]
  },
  {
   "cell_type": "code",
   "execution_count": null,
   "metadata": {},
   "outputs": [],
   "source": [
    "pytesseract.pytesseract.tesseract_cmd = r'C:\\Program Files\\Tesseract-OCR\\tesseract.exe'\n",
    "text_dict = {}\n",
    "floors = ['A','B','C','D','E','F','G']\n",
    "for floor in floors:\n",
    "    text = pytesseract.image_to_data(Image.open('level_maps_'+floor.lower()+'.png'),output_type='data.frame')\n",
    "    text = text.dropna()\n",
    "    text = text[text.text != ' ']\n",
    "    text = text[text.text != '  ']\n",
    "    text = text[text.text != '   ']\n",
    "    text = text[text.text != '    ']\n",
    "    text = text[text.text != '     ']\n",
    "    text_dict[floor] = text\n",
    "print(text_dict)"
   ]
  },
  {
   "cell_type": "code",
   "execution_count": null,
   "metadata": {},
   "outputs": [],
   "source": [
    "text_dict['A'].loc[text_dict['A'].text == 'AS,', 'text'] = 'A5'\n",
    "text_dict['A'].loc[text_dict['A'].text == 'Dischage', 'text'] = 'Discharge'\n",
    "text_dict['B'].loc[text_dict['B'].text == 'Centre', 'text'] = 'Haematology & Oncology Centre'\n",
    "text_dict['B'].loc[text_dict['B'].text == '(B8)', 'text'] = 'B8'\n",
    "text_dict['B'].loc[text_dict['B'].text == 'Neonatal', 'text'] = 'B9'\n",
    "text_dict['B'].loc[text_dict['B'].text == 'Eye', 'left'] = 1100\n",
    "text_dict['C'].loc[text_dict['C'].text == 'Day', 'text'] = 'Acute Medical (AMU) (MAU)'\n",
    "text_dict['C'].loc[text_dict['C'].text == 'Acute Medical (AMU) (MAU)', 'top'] = 354\n",
    "text_dict['C'].loc[text_dict['C'].text == 'Ambulance', 'left'] = 700\n",
    "text_dict['C'].loc[text_dict['C'].text == 'Ambulance', 'text'] = 'C Level Outpatients'\n",
    "text_dict['C'].loc[text_dict['C'].text == 'C Level Outpatients', 'left'] = 50\n",
    "text_dict['C'].loc[text_dict['C'].text == 'Diabetes', 'text'] = 'Diabetes and Endocrinology'\n",
    "text_dict['C'].loc[text_dict['C'].text == 'Blood', 'text'] = 'Emergency Department'\n",
    "text_dict['C'].loc[text_dict['C'].text == 'Emergency Department', 'left'] = 1100\n",
    "text_dict['C'].loc[text_dict['C'].text == 'Rheumatology', 'text'] = 'Rheumatology Outpatients'\n",
    "text_dict['D'].loc[text_dict['D'].text == 'Day', 'text'] = 'Day Surgery'\n",
    "text_dict['D'].loc[text_dict['D'].text == 'Nose', 'text'] = 'Ear, Nose & Throat'\n",
    "text_dict['D'].loc[text_dict['D'].text == 'Level', 'text'] = 'D Level Outpatients'\n",
    "text_dict['D'].loc[text_dict['D'].text == 'Gynaecology', 'text'] = 'Gynaecology Outpatients'\n",
    "text_dict['E'].loc[text_dict['E'].text == 'Theatre', 'text'] = 'Theatre Admissions Suite (TAS)'\n",
    "text_dict['E'].loc[text_dict['E'].text == 'E5)', 'text'] = 'E5'\n",
    "text_dict['F'].loc[text_dict['F'].text == 'Medical', 'text'] = 'Medical Physics Department'\n",
    "text_dict['G'].loc[text_dict['G'].text == 'Unit', 'text'] = 'Renal Unit'\n",
    "text_dict['G'].loc[text_dict['G'].text == 'G8,', 'text'] = 'G5'\n",
    "text_dict['G'].loc[text_dict['G'].text == 'G5', 'top'] = 750\n",
    "text_dict['G'].loc[text_dict['G'].text == 'G5', 'left'] = 700\n",
    "text_dict['G'].loc[text_dict['G'].text == 'G2,', 'text'] = 'G3'\n",
    "text_dict['G'].loc[text_dict['G'].text == 'Haemodialysis', 'text'] = 'Renal Haemodialysis'\n",
    "text_dict['G'].loc[text_dict['G'].text == 'Outpatients', 'text'] = 'Renal Outpatients'"
   ]
  },
  {
   "cell_type": "code",
   "execution_count": null,
   "metadata": {},
   "outputs": [],
   "source": [
    "merged_dict = {}\n",
    "for floor in floors:\n",
    "    merged_dict[floor] = pd.merge(left=df_counts,right=text_dict[floor],left_on='location',right_on='text')\n",
    "print(merged_dict)"
   ]
  },
  {
   "cell_type": "code",
   "execution_count": null,
   "metadata": {},
   "outputs": [],
   "source": [
    "cm = plt.cm.get_cmap('RdYlGn_r')\n",
    "vmin = df_counts['events'].min()\n",
    "vmax = df_counts['events'].max()\n",
    "area_multiplication = 6"
   ]
  },
  {
   "cell_type": "code",
   "execution_count": null,
   "metadata": {},
   "outputs": [],
   "source": [
    "for floor in floors:\n",
    "    plt.figure()\n",
    "    img=mpimg.imread('level_maps_'+floor.lower()+'.png')\n",
    "    plt.figure(figsize=(60,6))\n",
    "    imgplot = plt.imshow(img)\n",
    "    fig = plt.gca()\n",
    "    x = merged_dict[floor].left.values + merged_dict[floor].width.values/2\n",
    "    y = merged_dict[floor].top.values + merged_dict[floor].height.values/2\n",
    "    print(merged_dict[floor].events.values)\n",
    "    size = merged_dict[floor].events.values*area_multiplication\n",
    "    print(size)\n",
    "    color = merged_dict[floor].events.values\n",
    "    print(color)\n",
    "    plt.scatter(x,y,s=size,c=color,vmin=vmin,vmax=vmax,cmap=cm,alpha=0.5)\n",
    "    plt.colorbar(label='# of medicine patient safety events')\n",
    "    fig.get_xaxis().set_visible(False)\n",
    "    fig.get_yaxis().set_visible(False)"
   ]
  },
  {
   "cell_type": "code",
   "execution_count": null,
   "metadata": {},
   "outputs": [],
   "source": []
  }
 ],
 "metadata": {
  "kernelspec": {
   "display_name": "Python 3",
   "language": "python",
   "name": "python3"
  },
  "language_info": {
   "codemirror_mode": {
    "name": "ipython",
    "version": 3
   },
   "file_extension": ".py",
   "mimetype": "text/x-python",
   "name": "python",
   "nbconvert_exporter": "python",
   "pygments_lexer": "ipython3",
   "version": "3.7.3"
  }
 },
 "nbformat": 4,
 "nbformat_minor": 2
}
