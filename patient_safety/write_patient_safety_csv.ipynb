{
 "cells": [
  {
   "cell_type": "code",
   "execution_count": null,
   "metadata": {},
   "outputs": [],
   "source": [
    "import pandas as pd\n",
    "import pyodbc"
   ]
  },
  {
   "cell_type": "code",
   "execution_count": null,
   "metadata": {},
   "outputs": [],
   "source": [
    "sql_conn = pyodbc.connect('DRIVER={SQL Server};'\n",
    "                            'SERVER=L_AAGname;'\n",
    "                            'DATABASE=name;'\n",
    "                            'Trusted_Connection=yes') \n",
    "query = \"set transaction isolation level read uncommitted select a.recordid, b.description, c.description, d.description, a.inc_dincident,a.inc_time,a.inc_dreported,a.inc_submittedtime,a.inc_loctype,a.inc_result,a.inc_severity,a.show_other_contacts,a.show_employee,a.show_witness,a.show_document,a.inc_reportedby,a.inc_rep_email,a.inc_notes,a.inc_actiontaken from DatixCRM.dbo.code_unit b join DatixCRM.dbo.incidents_main a on a.inc_unit = b.code join DatixCRM.dbo.code_locactual c on a.inc_locactual = c.code join DatixCRM.dbo.code_specialty d on a.inc_specialty = d.code where a.inc_type='PAT' and a.inc_category='MEDIC' and a.inc_organisation='QA' and c.cod_parent2='QA'\"\n",
    "df = pd.read_sql(query, sql_conn, index_col='recordid')\n",
    "column_list = list(df.columns)\n",
    "column_list[0] = 'division-care_group'\n",
    "column_list[1] = 'location'\n",
    "column_list[2] = 'specialty'\n",
    "df['inc_rep_email'] = df['inc_rep_email'].str.split(\"@\",n=1,expand=True)[0]\n",
    "df.columns = column_list\n",
    "df"
   ]
  },
  {
   "cell_type": "code",
   "execution_count": null,
   "metadata": {},
   "outputs": [],
   "source": [
    "df.to_csv(path_or_buf='patient_safety_data.csv')"
   ]
  },
  {
   "cell_type": "code",
   "execution_count": null,
   "metadata": {},
   "outputs": [],
   "source": []
  }
 ],
 "metadata": {
  "kernelspec": {
   "display_name": "Python 3",
   "language": "python",
   "name": "python3"
  },
  "language_info": {
   "codemirror_mode": {
    "name": "ipython",
    "version": 3
   },
   "file_extension": ".py",
   "mimetype": "text/x-python",
   "name": "python",
   "nbconvert_exporter": "python",
   "pygments_lexer": "ipython3",
   "version": "3.7.3"
  }
 },
 "nbformat": 4,
 "nbformat_minor": 2
}
